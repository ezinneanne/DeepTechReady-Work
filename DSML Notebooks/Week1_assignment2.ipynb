{
  "nbformat": 4,
  "nbformat_minor": 0,
  "metadata": {
    "colab": {
      "provenance": [],
      "authorship_tag": "ABX9TyMLeAGo8F4edlOWiiuvwr7P",
      "include_colab_link": true
    },
    "kernelspec": {
      "name": "python3",
      "display_name": "Python 3"
    },
    "language_info": {
      "name": "python"
    }
  },
  "cells": [
    {
      "cell_type": "markdown",
      "metadata": {
        "id": "view-in-github",
        "colab_type": "text"
      },
      "source": [
        "<a href=\"https://colab.research.google.com/github/ezinneanne/DeepTechReady-Work/blob/new_branch/Week1_assignment2.ipynb\" target=\"_parent\"><img src=\"https://colab.research.google.com/assets/colab-badge.svg\" alt=\"Open In Colab\"/></a>"
      ]
    },
    {
      "cell_type": "markdown",
      "source": [
        "assignment 2\n",
        "\n",
        "I've prepared an assignment for you The data set for this assignment is a house pricing data set which is similar to this session demo data.\n",
        "\n",
        "The goal of this assignment is to build and compare two models on classification and regression.\n",
        "\n",
        "You are to choose a classification and regression model that we have explored during the demo and another classification and regression model not explored in our demo.\n",
        "\n",
        "An example for classification is using random forest classifier and an example of a regression model is support vector machine.\n",
        "\n",
        "Do not fret as you can find these models and more about their documentation on the Sci-learn  website.\n",
        "\n",
        "There are also relevant links that I've provided in the Jupiter notebook to see more of these models.\n",
        "Finally you are required to evaluate the models in each category to determine which performs best for predicting the house price and the house price category.\n",
        "\n",
        "Remember to upload your completed assignment to the learning portal.\n",
        "\n",
        "The full assignment details and the deliverables you are required to submit will also be made available on the learning portal.\n",
        "If you do encounter any challenges don't hesitate to reach out to a teaching assistant for supports You can also engage via Google Classroom for additional guidance and clarification."
      ],
      "metadata": {
        "id": "lgTzYfmDN3lt"
      }
    },
    {
      "cell_type": "code",
      "execution_count": null,
      "metadata": {
        "id": "c7TDs-L5NhcB"
      },
      "outputs": [],
      "source": [
        "#model used in the demo\n",
        "#linear regression for regression\n",
        "#logistic regression for classification\n",
        "\n",
        "#models not used in the demo\n",
        "#randomforestclassifier for classification\n",
        "#randomforestregressor for regression"
      ]
    },
    {
      "cell_type": "code",
      "source": [
        "# Mounting gdrive\n",
        "from google.colab import drive\n",
        "drive.mount('/content/drive', force_remount=True)"
      ],
      "metadata": {
        "colab": {
          "base_uri": "https://localhost:8080/"
        },
        "id": "G782ynmeUln_",
        "outputId": "2848f5f7-7406-4395-cc40-0f1373454729"
      },
      "execution_count": null,
      "outputs": [
        {
          "output_type": "stream",
          "name": "stdout",
          "text": [
            "Mounted at /content/drive\n"
          ]
        }
      ]
    },
    {
      "cell_type": "code",
      "source": [
        "#importing libraries\n",
        "import pandas as pd"
      ],
      "metadata": {
        "id": "voEOyEQjUvZC"
      },
      "execution_count": null,
      "outputs": []
    },
    {
      "cell_type": "code",
      "source": [
        "# Set parameters\n",
        "DATA_DIR = '/content/drive/MyDrive/'\n",
        "\n",
        "\n",
        "# Reading the dataset\n",
        "data = pd.read_csv(DATA_DIR + 'nnigeria_houses.csv', encoding='latin1')\n",
        "# display the first 5 rows\n",
        "data.head()"
      ],
      "metadata": {
        "colab": {
          "base_uri": "https://localhost:8080/",
          "height": 348
        },
        "id": "zWItNePRVObc",
        "outputId": "18d1d27f-09e6-45ed-9d50-d52c95aab489"
      },
      "execution_count": null,
      "outputs": [
        {
          "output_type": "execute_result",
          "data": {
            "text/plain": [
              "   bedrooms  bathrooms  toilets  parking_space                 title     town  \\\n",
              "0       6.0        5.0      5.0            4.0       Detached Duplex  Mabushi   \n",
              "1       4.0        5.0      5.0            4.0     Terraced Duplexes  Katampe   \n",
              "2       4.0        5.0      5.0            4.0       Detached Duplex    Lekki   \n",
              "3       4.0        4.0      5.0            6.0       Detached Duplex     Ajah   \n",
              "4       4.0        4.0      5.0            2.0  Semi Detached Duplex    Lekki   \n",
              "\n",
              "   state      price  price Category  \n",
              "0  Abuja  450000000               1  \n",
              "1  Abuja  800000000               1  \n",
              "2  Lagos  120000000               1  \n",
              "3  Lagos   40000000               1  \n",
              "4  Lagos   75000000               1  "
            ],
            "text/html": [
              "\n",
              "  <div id=\"df-469b5f06-fbfb-41ef-871a-52b6258a613c\" class=\"colab-df-container\">\n",
              "    <div>\n",
              "<style scoped>\n",
              "    .dataframe tbody tr th:only-of-type {\n",
              "        vertical-align: middle;\n",
              "    }\n",
              "\n",
              "    .dataframe tbody tr th {\n",
              "        vertical-align: top;\n",
              "    }\n",
              "\n",
              "    .dataframe thead th {\n",
              "        text-align: right;\n",
              "    }\n",
              "</style>\n",
              "<table border=\"1\" class=\"dataframe\">\n",
              "  <thead>\n",
              "    <tr style=\"text-align: right;\">\n",
              "      <th></th>\n",
              "      <th>bedrooms</th>\n",
              "      <th>bathrooms</th>\n",
              "      <th>toilets</th>\n",
              "      <th>parking_space</th>\n",
              "      <th>title</th>\n",
              "      <th>town</th>\n",
              "      <th>state</th>\n",
              "      <th>price</th>\n",
              "      <th>price Category</th>\n",
              "    </tr>\n",
              "  </thead>\n",
              "  <tbody>\n",
              "    <tr>\n",
              "      <th>0</th>\n",
              "      <td>6.0</td>\n",
              "      <td>5.0</td>\n",
              "      <td>5.0</td>\n",
              "      <td>4.0</td>\n",
              "      <td>Detached Duplex</td>\n",
              "      <td>Mabushi</td>\n",
              "      <td>Abuja</td>\n",
              "      <td>450000000</td>\n",
              "      <td>1</td>\n",
              "    </tr>\n",
              "    <tr>\n",
              "      <th>1</th>\n",
              "      <td>4.0</td>\n",
              "      <td>5.0</td>\n",
              "      <td>5.0</td>\n",
              "      <td>4.0</td>\n",
              "      <td>Terraced Duplexes</td>\n",
              "      <td>Katampe</td>\n",
              "      <td>Abuja</td>\n",
              "      <td>800000000</td>\n",
              "      <td>1</td>\n",
              "    </tr>\n",
              "    <tr>\n",
              "      <th>2</th>\n",
              "      <td>4.0</td>\n",
              "      <td>5.0</td>\n",
              "      <td>5.0</td>\n",
              "      <td>4.0</td>\n",
              "      <td>Detached Duplex</td>\n",
              "      <td>Lekki</td>\n",
              "      <td>Lagos</td>\n",
              "      <td>120000000</td>\n",
              "      <td>1</td>\n",
              "    </tr>\n",
              "    <tr>\n",
              "      <th>3</th>\n",
              "      <td>4.0</td>\n",
              "      <td>4.0</td>\n",
              "      <td>5.0</td>\n",
              "      <td>6.0</td>\n",
              "      <td>Detached Duplex</td>\n",
              "      <td>Ajah</td>\n",
              "      <td>Lagos</td>\n",
              "      <td>40000000</td>\n",
              "      <td>1</td>\n",
              "    </tr>\n",
              "    <tr>\n",
              "      <th>4</th>\n",
              "      <td>4.0</td>\n",
              "      <td>4.0</td>\n",
              "      <td>5.0</td>\n",
              "      <td>2.0</td>\n",
              "      <td>Semi Detached Duplex</td>\n",
              "      <td>Lekki</td>\n",
              "      <td>Lagos</td>\n",
              "      <td>75000000</td>\n",
              "      <td>1</td>\n",
              "    </tr>\n",
              "  </tbody>\n",
              "</table>\n",
              "</div>\n",
              "    <div class=\"colab-df-buttons\">\n",
              "\n",
              "  <div class=\"colab-df-container\">\n",
              "    <button class=\"colab-df-convert\" onclick=\"convertToInteractive('df-469b5f06-fbfb-41ef-871a-52b6258a613c')\"\n",
              "            title=\"Convert this dataframe to an interactive table.\"\n",
              "            style=\"display:none;\">\n",
              "\n",
              "  <svg xmlns=\"http://www.w3.org/2000/svg\" height=\"24px\" viewBox=\"0 -960 960 960\">\n",
              "    <path d=\"M120-120v-720h720v720H120Zm60-500h600v-160H180v160Zm220 220h160v-160H400v160Zm0 220h160v-160H400v160ZM180-400h160v-160H180v160Zm440 0h160v-160H620v160ZM180-180h160v-160H180v160Zm440 0h160v-160H620v160Z\"/>\n",
              "  </svg>\n",
              "    </button>\n",
              "\n",
              "  <style>\n",
              "    .colab-df-container {\n",
              "      display:flex;\n",
              "      gap: 12px;\n",
              "    }\n",
              "\n",
              "    .colab-df-convert {\n",
              "      background-color: #E8F0FE;\n",
              "      border: none;\n",
              "      border-radius: 50%;\n",
              "      cursor: pointer;\n",
              "      display: none;\n",
              "      fill: #1967D2;\n",
              "      height: 32px;\n",
              "      padding: 0 0 0 0;\n",
              "      width: 32px;\n",
              "    }\n",
              "\n",
              "    .colab-df-convert:hover {\n",
              "      background-color: #E2EBFA;\n",
              "      box-shadow: 0px 1px 2px rgba(60, 64, 67, 0.3), 0px 1px 3px 1px rgba(60, 64, 67, 0.15);\n",
              "      fill: #174EA6;\n",
              "    }\n",
              "\n",
              "    .colab-df-buttons div {\n",
              "      margin-bottom: 4px;\n",
              "    }\n",
              "\n",
              "    [theme=dark] .colab-df-convert {\n",
              "      background-color: #3B4455;\n",
              "      fill: #D2E3FC;\n",
              "    }\n",
              "\n",
              "    [theme=dark] .colab-df-convert:hover {\n",
              "      background-color: #434B5C;\n",
              "      box-shadow: 0px 1px 3px 1px rgba(0, 0, 0, 0.15);\n",
              "      filter: drop-shadow(0px 1px 2px rgba(0, 0, 0, 0.3));\n",
              "      fill: #FFFFFF;\n",
              "    }\n",
              "  </style>\n",
              "\n",
              "    <script>\n",
              "      const buttonEl =\n",
              "        document.querySelector('#df-469b5f06-fbfb-41ef-871a-52b6258a613c button.colab-df-convert');\n",
              "      buttonEl.style.display =\n",
              "        google.colab.kernel.accessAllowed ? 'block' : 'none';\n",
              "\n",
              "      async function convertToInteractive(key) {\n",
              "        const element = document.querySelector('#df-469b5f06-fbfb-41ef-871a-52b6258a613c');\n",
              "        const dataTable =\n",
              "          await google.colab.kernel.invokeFunction('convertToInteractive',\n",
              "                                                    [key], {});\n",
              "        if (!dataTable) return;\n",
              "\n",
              "        const docLinkHtml = 'Like what you see? Visit the ' +\n",
              "          '<a target=\"_blank\" href=https://colab.research.google.com/notebooks/data_table.ipynb>data table notebook</a>'\n",
              "          + ' to learn more about interactive tables.';\n",
              "        element.innerHTML = '';\n",
              "        dataTable['output_type'] = 'display_data';\n",
              "        await google.colab.output.renderOutput(dataTable, element);\n",
              "        const docLink = document.createElement('div');\n",
              "        docLink.innerHTML = docLinkHtml;\n",
              "        element.appendChild(docLink);\n",
              "      }\n",
              "    </script>\n",
              "  </div>\n",
              "\n",
              "\n",
              "<div id=\"df-362e00d3-191d-4cc5-8711-74ef235a452d\">\n",
              "  <button class=\"colab-df-quickchart\" onclick=\"quickchart('df-362e00d3-191d-4cc5-8711-74ef235a452d')\"\n",
              "            title=\"Suggest charts\"\n",
              "            style=\"display:none;\">\n",
              "\n",
              "<svg xmlns=\"http://www.w3.org/2000/svg\" height=\"24px\"viewBox=\"0 0 24 24\"\n",
              "     width=\"24px\">\n",
              "    <g>\n",
              "        <path d=\"M19 3H5c-1.1 0-2 .9-2 2v14c0 1.1.9 2 2 2h14c1.1 0 2-.9 2-2V5c0-1.1-.9-2-2-2zM9 17H7v-7h2v7zm4 0h-2V7h2v10zm4 0h-2v-4h2v4z\"/>\n",
              "    </g>\n",
              "</svg>\n",
              "  </button>\n",
              "\n",
              "<style>\n",
              "  .colab-df-quickchart {\n",
              "      --bg-color: #E8F0FE;\n",
              "      --fill-color: #1967D2;\n",
              "      --hover-bg-color: #E2EBFA;\n",
              "      --hover-fill-color: #174EA6;\n",
              "      --disabled-fill-color: #AAA;\n",
              "      --disabled-bg-color: #DDD;\n",
              "  }\n",
              "\n",
              "  [theme=dark] .colab-df-quickchart {\n",
              "      --bg-color: #3B4455;\n",
              "      --fill-color: #D2E3FC;\n",
              "      --hover-bg-color: #434B5C;\n",
              "      --hover-fill-color: #FFFFFF;\n",
              "      --disabled-bg-color: #3B4455;\n",
              "      --disabled-fill-color: #666;\n",
              "  }\n",
              "\n",
              "  .colab-df-quickchart {\n",
              "    background-color: var(--bg-color);\n",
              "    border: none;\n",
              "    border-radius: 50%;\n",
              "    cursor: pointer;\n",
              "    display: none;\n",
              "    fill: var(--fill-color);\n",
              "    height: 32px;\n",
              "    padding: 0;\n",
              "    width: 32px;\n",
              "  }\n",
              "\n",
              "  .colab-df-quickchart:hover {\n",
              "    background-color: var(--hover-bg-color);\n",
              "    box-shadow: 0 1px 2px rgba(60, 64, 67, 0.3), 0 1px 3px 1px rgba(60, 64, 67, 0.15);\n",
              "    fill: var(--button-hover-fill-color);\n",
              "  }\n",
              "\n",
              "  .colab-df-quickchart-complete:disabled,\n",
              "  .colab-df-quickchart-complete:disabled:hover {\n",
              "    background-color: var(--disabled-bg-color);\n",
              "    fill: var(--disabled-fill-color);\n",
              "    box-shadow: none;\n",
              "  }\n",
              "\n",
              "  .colab-df-spinner {\n",
              "    border: 2px solid var(--fill-color);\n",
              "    border-color: transparent;\n",
              "    border-bottom-color: var(--fill-color);\n",
              "    animation:\n",
              "      spin 1s steps(1) infinite;\n",
              "  }\n",
              "\n",
              "  @keyframes spin {\n",
              "    0% {\n",
              "      border-color: transparent;\n",
              "      border-bottom-color: var(--fill-color);\n",
              "      border-left-color: var(--fill-color);\n",
              "    }\n",
              "    20% {\n",
              "      border-color: transparent;\n",
              "      border-left-color: var(--fill-color);\n",
              "      border-top-color: var(--fill-color);\n",
              "    }\n",
              "    30% {\n",
              "      border-color: transparent;\n",
              "      border-left-color: var(--fill-color);\n",
              "      border-top-color: var(--fill-color);\n",
              "      border-right-color: var(--fill-color);\n",
              "    }\n",
              "    40% {\n",
              "      border-color: transparent;\n",
              "      border-right-color: var(--fill-color);\n",
              "      border-top-color: var(--fill-color);\n",
              "    }\n",
              "    60% {\n",
              "      border-color: transparent;\n",
              "      border-right-color: var(--fill-color);\n",
              "    }\n",
              "    80% {\n",
              "      border-color: transparent;\n",
              "      border-right-color: var(--fill-color);\n",
              "      border-bottom-color: var(--fill-color);\n",
              "    }\n",
              "    90% {\n",
              "      border-color: transparent;\n",
              "      border-bottom-color: var(--fill-color);\n",
              "    }\n",
              "  }\n",
              "</style>\n",
              "\n",
              "  <script>\n",
              "    async function quickchart(key) {\n",
              "      const quickchartButtonEl =\n",
              "        document.querySelector('#' + key + ' button');\n",
              "      quickchartButtonEl.disabled = true;  // To prevent multiple clicks.\n",
              "      quickchartButtonEl.classList.add('colab-df-spinner');\n",
              "      try {\n",
              "        const charts = await google.colab.kernel.invokeFunction(\n",
              "            'suggestCharts', [key], {});\n",
              "      } catch (error) {\n",
              "        console.error('Error during call to suggestCharts:', error);\n",
              "      }\n",
              "      quickchartButtonEl.classList.remove('colab-df-spinner');\n",
              "      quickchartButtonEl.classList.add('colab-df-quickchart-complete');\n",
              "    }\n",
              "    (() => {\n",
              "      let quickchartButtonEl =\n",
              "        document.querySelector('#df-362e00d3-191d-4cc5-8711-74ef235a452d button');\n",
              "      quickchartButtonEl.style.display =\n",
              "        google.colab.kernel.accessAllowed ? 'block' : 'none';\n",
              "    })();\n",
              "  </script>\n",
              "</div>\n",
              "\n",
              "    </div>\n",
              "  </div>\n"
            ],
            "application/vnd.google.colaboratory.intrinsic+json": {
              "type": "dataframe",
              "variable_name": "data",
              "summary": "{\n  \"name\": \"data\",\n  \"rows\": 24326,\n  \"fields\": [\n    {\n      \"column\": \"bedrooms\",\n      \"properties\": {\n        \"dtype\": \"number\",\n        \"std\": 1.1384974394640044,\n        \"min\": 1.0,\n        \"max\": 9.0,\n        \"num_unique_values\": 9,\n        \"samples\": [\n          9.0,\n          4.0,\n          3.0\n        ],\n        \"semantic_type\": \"\",\n        \"description\": \"\"\n      }\n    },\n    {\n      \"column\": \"bathrooms\",\n      \"properties\": {\n        \"dtype\": \"number\",\n        \"std\": 1.1631608869192767,\n        \"min\": 1.0,\n        \"max\": 9.0,\n        \"num_unique_values\": 9,\n        \"samples\": [\n          7.0,\n          4.0,\n          3.0\n        ],\n        \"semantic_type\": \"\",\n        \"description\": \"\"\n      }\n    },\n    {\n      \"column\": \"toilets\",\n      \"properties\": {\n        \"dtype\": \"number\",\n        \"std\": 1.2262533973018215,\n        \"min\": 1.0,\n        \"max\": 9.0,\n        \"num_unique_values\": 9,\n        \"samples\": [\n          2.0,\n          6.0,\n          4.0\n        ],\n        \"semantic_type\": \"\",\n        \"description\": \"\"\n      }\n    },\n    {\n      \"column\": \"parking_space\",\n      \"properties\": {\n        \"dtype\": \"number\",\n        \"std\": 1.3999361198619311,\n        \"min\": 1.0,\n        \"max\": 9.0,\n        \"num_unique_values\": 9,\n        \"samples\": [\n          7.0,\n          6.0,\n          3.0\n        ],\n        \"semantic_type\": \"\",\n        \"description\": \"\"\n      }\n    },\n    {\n      \"column\": \"title\",\n      \"properties\": {\n        \"dtype\": \"category\",\n        \"num_unique_values\": 7,\n        \"samples\": [\n          \"Detached Duplex\",\n          \"Terraced Duplexes\",\n          \"Semi Detached Bungalow\"\n        ],\n        \"semantic_type\": \"\",\n        \"description\": \"\"\n      }\n    },\n    {\n      \"column\": \"town\",\n      \"properties\": {\n        \"dtype\": \"category\",\n        \"num_unique_values\": 189,\n        \"samples\": [\n          \"Ughelli North\",\n          \"Jos North\",\n          \"Yaba\"\n        ],\n        \"semantic_type\": \"\",\n        \"description\": \"\"\n      }\n    },\n    {\n      \"column\": \"state\",\n      \"properties\": {\n        \"dtype\": \"category\",\n        \"num_unique_values\": 25,\n        \"samples\": [\n          \"Enugu\",\n          \"Ekiti\",\n          \"Abuja\"\n        ],\n        \"semantic_type\": \"\",\n        \"description\": \"\"\n      }\n    },\n    {\n      \"column\": \"price\",\n      \"properties\": {\n        \"dtype\": \"number\",\n        \"std\": 12204027269,\n        \"min\": 90000,\n        \"max\": 1800000000000,\n        \"num_unique_values\": 539,\n        \"samples\": [\n          199900000,\n          190000000,\n          65500000\n        ],\n        \"semantic_type\": \"\",\n        \"description\": \"\"\n      }\n    },\n    {\n      \"column\": \"price Category\",\n      \"properties\": {\n        \"dtype\": \"number\",\n        \"std\": 0,\n        \"min\": 0,\n        \"max\": 1,\n        \"num_unique_values\": 2,\n        \"samples\": [\n          0,\n          1\n        ],\n        \"semantic_type\": \"\",\n        \"description\": \"\"\n      }\n    }\n  ]\n}"
            }
          },
          "metadata": {},
          "execution_count": 3
        }
      ]
    },
    {
      "cell_type": "code",
      "source": [
        "data.info()"
      ],
      "metadata": {
        "colab": {
          "base_uri": "https://localhost:8080/"
        },
        "id": "r7e_30KcWGDA",
        "outputId": "d61033b6-85ea-4205-a9f9-925455c3c219"
      },
      "execution_count": null,
      "outputs": [
        {
          "output_type": "stream",
          "name": "stdout",
          "text": [
            "<class 'pandas.core.frame.DataFrame'>\n",
            "RangeIndex: 24326 entries, 0 to 24325\n",
            "Data columns (total 9 columns):\n",
            " #   Column          Non-Null Count  Dtype  \n",
            "---  ------          --------------  -----  \n",
            " 0   bedrooms        24326 non-null  float64\n",
            " 1   bathrooms       24326 non-null  float64\n",
            " 2   toilets         24326 non-null  float64\n",
            " 3   parking_space   24326 non-null  float64\n",
            " 4   title           24326 non-null  object \n",
            " 5   town            24326 non-null  object \n",
            " 6   state           24326 non-null  object \n",
            " 7   price           24326 non-null  int64  \n",
            " 8   price Category  24326 non-null  int64  \n",
            "dtypes: float64(4), int64(2), object(3)\n",
            "memory usage: 1.7+ MB\n"
          ]
        }
      ]
    },
    {
      "cell_type": "code",
      "source": [
        "# Determine the percentage of missing value in each column\n",
        "missing_percentage = data.isnull().sum() / len(data) * 100\n",
        "missing_percentage"
      ],
      "metadata": {
        "colab": {
          "base_uri": "https://localhost:8080/",
          "height": 366
        },
        "id": "jKWfVxUdfvqv",
        "outputId": "f29b5fab-e031-451f-e47a-aff955cd826e"
      },
      "execution_count": null,
      "outputs": [
        {
          "output_type": "execute_result",
          "data": {
            "text/plain": [
              "bedrooms          0.0\n",
              "bathrooms         0.0\n",
              "toilets           0.0\n",
              "parking_space     0.0\n",
              "title             0.0\n",
              "town              0.0\n",
              "state             0.0\n",
              "price             0.0\n",
              "price Category    0.0\n",
              "dtype: float64"
            ],
            "text/html": [
              "<div>\n",
              "<style scoped>\n",
              "    .dataframe tbody tr th:only-of-type {\n",
              "        vertical-align: middle;\n",
              "    }\n",
              "\n",
              "    .dataframe tbody tr th {\n",
              "        vertical-align: top;\n",
              "    }\n",
              "\n",
              "    .dataframe thead th {\n",
              "        text-align: right;\n",
              "    }\n",
              "</style>\n",
              "<table border=\"1\" class=\"dataframe\">\n",
              "  <thead>\n",
              "    <tr style=\"text-align: right;\">\n",
              "      <th></th>\n",
              "      <th>0</th>\n",
              "    </tr>\n",
              "  </thead>\n",
              "  <tbody>\n",
              "    <tr>\n",
              "      <th>bedrooms</th>\n",
              "      <td>0.0</td>\n",
              "    </tr>\n",
              "    <tr>\n",
              "      <th>bathrooms</th>\n",
              "      <td>0.0</td>\n",
              "    </tr>\n",
              "    <tr>\n",
              "      <th>toilets</th>\n",
              "      <td>0.0</td>\n",
              "    </tr>\n",
              "    <tr>\n",
              "      <th>parking_space</th>\n",
              "      <td>0.0</td>\n",
              "    </tr>\n",
              "    <tr>\n",
              "      <th>title</th>\n",
              "      <td>0.0</td>\n",
              "    </tr>\n",
              "    <tr>\n",
              "      <th>town</th>\n",
              "      <td>0.0</td>\n",
              "    </tr>\n",
              "    <tr>\n",
              "      <th>state</th>\n",
              "      <td>0.0</td>\n",
              "    </tr>\n",
              "    <tr>\n",
              "      <th>price</th>\n",
              "      <td>0.0</td>\n",
              "    </tr>\n",
              "    <tr>\n",
              "      <th>price Category</th>\n",
              "      <td>0.0</td>\n",
              "    </tr>\n",
              "  </tbody>\n",
              "</table>\n",
              "</div><br><label><b>dtype:</b> float64</label>"
            ]
          },
          "metadata": {},
          "execution_count": 5
        }
      ]
    },
    {
      "cell_type": "code",
      "source": [
        "data.dropna(inplace=True)\n",
        "data.info()"
      ],
      "metadata": {
        "colab": {
          "base_uri": "https://localhost:8080/"
        },
        "id": "L7UfX5XfgQXS",
        "outputId": "0b03eeb1-76dc-4c98-e310-8320a8a8e36f"
      },
      "execution_count": null,
      "outputs": [
        {
          "output_type": "stream",
          "name": "stdout",
          "text": [
            "<class 'pandas.core.frame.DataFrame'>\n",
            "RangeIndex: 24326 entries, 0 to 24325\n",
            "Data columns (total 9 columns):\n",
            " #   Column          Non-Null Count  Dtype  \n",
            "---  ------          --------------  -----  \n",
            " 0   bedrooms        24326 non-null  float64\n",
            " 1   bathrooms       24326 non-null  float64\n",
            " 2   toilets         24326 non-null  float64\n",
            " 3   parking_space   24326 non-null  float64\n",
            " 4   title           24326 non-null  object \n",
            " 5   town            24326 non-null  object \n",
            " 6   state           24326 non-null  object \n",
            " 7   price           24326 non-null  int64  \n",
            " 8   price Category  24326 non-null  int64  \n",
            "dtypes: float64(4), int64(2), object(3)\n",
            "memory usage: 1.7+ MB\n"
          ]
        }
      ]
    },
    {
      "cell_type": "code",
      "source": [
        "# Encode categorical features\n",
        "data_encoded = pd.get_dummies(data, columns=['title', 'town', 'state'], drop_first=True)\n",
        "\n",
        "# Features and targets\n",
        "features = data_encoded.drop(['price', 'price Category'], axis=1)\n",
        "target_reg = data_encoded['price']\n",
        "target_clf = data_encoded['price Category']"
      ],
      "metadata": {
        "id": "TNwXfTVak3JP"
      },
      "execution_count": null,
      "outputs": []
    },
    {
      "cell_type": "code",
      "source": [
        "from sklearn.model_selection import train_test_split\n",
        "\n",
        "# Regression\n",
        "X_train_reg, X_test_reg, y_train_reg, y_test_reg = train_test_split(features, target_reg, test_size=0.2, random_state=42)\n",
        "\n",
        "# Classification\n",
        "X_train_clf, X_test_clf, y_train_clf, y_test_clf = train_test_split(features, target_clf, test_size=0.2, random_state=42)"
      ],
      "metadata": {
        "id": "thYunTkIlcq4"
      },
      "execution_count": null,
      "outputs": []
    },
    {
      "cell_type": "code",
      "source": [
        "from sklearn.linear_model import LinearRegression\n",
        "from sklearn.ensemble import RandomForestRegressor\n",
        "from sklearn.metrics import mean_squared_error, r2_score\n",
        "\n",
        "# Linear Regression\n",
        "lr = LinearRegression()\n",
        "lr.fit(X_train_reg, y_train_reg)\n",
        "lr_preds = lr.predict(X_test_reg)\n",
        "\n",
        "# Random Forest Regressor\n",
        "rfr = RandomForestRegressor(random_state=42)\n",
        "rfr.fit(X_train_reg, y_train_reg)\n",
        "rfr_preds = rfr.predict(X_test_reg)\n",
        "\n",
        "# Evaluation\n",
        "print(\"Linear Regression MSE:\", mean_squared_error(y_test_reg, lr_preds))\n",
        "print(\"Linear Regression R2:\", r2_score(y_test_reg, lr_preds))\n",
        "\n",
        "print(\"Random Forest Regressor MSE:\", mean_squared_error(y_test_reg, rfr_preds))\n",
        "print(\"Random Forest Regressor R2:\", r2_score(y_test_reg, rfr_preds))"
      ],
      "metadata": {
        "colab": {
          "base_uri": "https://localhost:8080/"
        },
        "id": "7iSwkqIvls2D",
        "outputId": "c26f9e34-b26c-4211-e570-90d0a95b37aa"
      },
      "execution_count": null,
      "outputs": [
        {
          "output_type": "stream",
          "name": "stdout",
          "text": [
            "Linear Regression MSE: 4.449975400875295e+17\n",
            "Linear Regression R2: -4.419904085838585\n",
            "Random Forest Regressor MSE: 1.8173399824492465e+20\n",
            "Random Forest Regressor R2: -2212.452324769497\n"
          ]
        }
      ]
    },
    {
      "cell_type": "code",
      "source": [
        "from sklearn.linear_model import LogisticRegression\n",
        "from sklearn.ensemble import RandomForestClassifier\n",
        "from sklearn.metrics import classification_report, accuracy_score, confusion_matrix\n",
        "\n",
        "# Logistic Regression\n",
        "logreg = LogisticRegression(max_iter=1000)\n",
        "logreg.fit(X_train_clf, y_train_clf)\n",
        "log_preds = logreg.predict(X_test_clf)\n",
        "\n",
        "# Random Forest Classifier\n",
        "rfc = RandomForestClassifier(random_state=42)\n",
        "rfc.fit(X_train_clf, y_train_clf)\n",
        "rfc_preds = rfc.predict(X_test_clf)\n",
        "\n",
        "# Evaluation\n",
        "print(\"Logistic Regression Report:\\n\", classification_report(y_test_clf, log_preds))\n",
        "print(\"Random Forest Classifier Report:\\n\", classification_report(y_test_clf, rfc_preds))"
      ],
      "metadata": {
        "colab": {
          "base_uri": "https://localhost:8080/"
        },
        "id": "eS-PhhtEmHrY",
        "outputId": "56225573-7f95-461f-bbf1-2893a2048803"
      },
      "execution_count": null,
      "outputs": [
        {
          "output_type": "stream",
          "name": "stdout",
          "text": [
            "Logistic Regression Report:\n",
            "               precision    recall  f1-score   support\n",
            "\n",
            "           0       0.00      0.00      0.00        23\n",
            "           1       1.00      1.00      1.00      4843\n",
            "\n",
            "    accuracy                           1.00      4866\n",
            "   macro avg       0.50      0.50      0.50      4866\n",
            "weighted avg       0.99      1.00      0.99      4866\n",
            "\n",
            "Random Forest Classifier Report:\n",
            "               precision    recall  f1-score   support\n",
            "\n",
            "           0       0.20      0.09      0.12        23\n",
            "           1       1.00      1.00      1.00      4843\n",
            "\n",
            "    accuracy                           0.99      4866\n",
            "   macro avg       0.60      0.54      0.56      4866\n",
            "weighted avg       0.99      0.99      0.99      4866\n",
            "\n"
          ]
        },
        {
          "output_type": "stream",
          "name": "stderr",
          "text": [
            "/usr/local/lib/python3.11/dist-packages/sklearn/metrics/_classification.py:1565: UndefinedMetricWarning: Precision is ill-defined and being set to 0.0 in labels with no predicted samples. Use `zero_division` parameter to control this behavior.\n",
            "  _warn_prf(average, modifier, f\"{metric.capitalize()} is\", len(result))\n",
            "/usr/local/lib/python3.11/dist-packages/sklearn/metrics/_classification.py:1565: UndefinedMetricWarning: Precision is ill-defined and being set to 0.0 in labels with no predicted samples. Use `zero_division` parameter to control this behavior.\n",
            "  _warn_prf(average, modifier, f\"{metric.capitalize()} is\", len(result))\n",
            "/usr/local/lib/python3.11/dist-packages/sklearn/metrics/_classification.py:1565: UndefinedMetricWarning: Precision is ill-defined and being set to 0.0 in labels with no predicted samples. Use `zero_division` parameter to control this behavior.\n",
            "  _warn_prf(average, modifier, f\"{metric.capitalize()} is\", len(result))\n"
          ]
        }
      ]
    },
    {
      "cell_type": "code",
      "source": [
        "import matplotlib.pyplot as plt\n",
        "import seaborn as sns\n",
        "\n",
        "# Regression Prediction Comparison\n",
        "plt.figure(figsize=(10, 5))\n",
        "plt.scatter(y_test_reg, rfr_preds, alpha=0.5, label='Random Forest')\n",
        "plt.scatter(y_test_reg, lr_preds, alpha=0.5, label='Linear Regression')\n",
        "plt.plot([y_test_reg.min(), y_test_reg.max()], [y_test_reg.min(), y_test_reg.max()], 'k--')\n",
        "plt.xlabel('Actual')\n",
        "plt.ylabel('Predicted')\n",
        "plt.legend()\n",
        "plt.title('Regression Prediction Comparison')\n",
        "plt.show()\n",
        "\n",
        "# Classification Confusion Matrix\n",
        "fig, ax = plt.subplots(1, 2, figsize=(14, 6))\n",
        "sns.heatmap(confusion_matrix(y_test_clf, log_preds), annot=True, fmt='d', ax=ax[0])\n",
        "ax[0].set_title(\"Logistic Regression Confusion Matrix\")\n",
        "\n",
        "sns.heatmap(confusion_matrix(y_test_clf, rfc_preds), annot=True, fmt='d', ax=ax[1])\n",
        "ax[1].set_title(\"Random Forest Classifier Confusion Matrix\")\n",
        "plt.show()"
      ],
      "metadata": {
        "colab": {
          "base_uri": "https://localhost:8080/",
          "height": 297
        },
        "id": "FqN4ciEum0GH",
        "outputId": "a1ed4052-1a9d-4433-99d9-6338e6cf0c14"
      },
      "execution_count": null,
      "outputs": [
        {
          "output_type": "display_data",
          "data": {
            "text/plain": [
              "<Figure size 1000x500 with 1 Axes>"
            ],
            "image/png": "[encoded data removed]"
          },
          "metadata": {}
        },
        {
          "output_type": "display_data",
          "data": {
            "text/plain": [
              "<Figure size 1400x600 with 4 Axes>"
            ],
            "image/png": "[encoded data removed]"
          },
          "metadata": {}
        }
      ]
    },
    {
      "cell_type": "code",
      "source": [
        "#importing libraries\n",
        "import numpy as np\n",
        "from sklearn.model_selection import train_test_split\n",
        "from sklearn.linear_model import LinearRegression, LogisticRegression\n",
        "from sklearn.ensemble import RandomForestRegressor, RandomForestClassifier\n",
        "from sklearn.preprocessing import OneHotEncoder, StandardScaler\n",
        "from sklearn.compose import ColumnTransformer\n",
        "from sklearn.pipeline import Pipeline\n",
        "from sklearn.metrics import mean_squared_error, r2_score, classification_report\n",
        "from sklearn.utils.class_weight import compute_class_weight"
      ],
      "metadata": {
        "id": "cpklbbQFq5bN"
      },
      "execution_count": null,
      "outputs": []
    },
    {
      "cell_type": "code",
      "source": [
        "# Basic cleanup: Drop duplicates and rows with missing values\n",
        "data.drop_duplicates(inplace=True)\n",
        "data.dropna(inplace=True)\n",
        "data.head()\n",
        "data.info()"
      ],
      "metadata": {
        "colab": {
          "base_uri": "https://localhost:8080/"
        },
        "id": "CLDLA-JprM_b",
        "outputId": "8e953a33-6970-4bb6-8d20-befbebc2ca12"
      },
      "execution_count": null,
      "outputs": [
        {
          "output_type": "stream",
          "name": "stdout",
          "text": [
            "<class 'pandas.core.frame.DataFrame'>\n",
            "Index: 13767 entries, 0 to 24324\n",
            "Data columns (total 9 columns):\n",
            " #   Column          Non-Null Count  Dtype  \n",
            "---  ------          --------------  -----  \n",
            " 0   bedrooms        13767 non-null  float64\n",
            " 1   bathrooms       13767 non-null  float64\n",
            " 2   toilets         13767 non-null  float64\n",
            " 3   parking_space   13767 non-null  float64\n",
            " 4   title           13767 non-null  object \n",
            " 5   town            13767 non-null  object \n",
            " 6   state           13767 non-null  object \n",
            " 7   price           13767 non-null  int64  \n",
            " 8   price Category  13767 non-null  int64  \n",
            "dtypes: float64(4), int64(2), object(3)\n",
            "memory usage: 1.1+ MB\n"
          ]
        }
      ]
    },
    {
      "cell_type": "code",
      "source": [
        "# Define a function to calculate Z-scores and remove outliers\n",
        "def remove_outliers_manual(data, column):\n",
        "    # Calculate mean and standard deviation\n",
        "    mean = data[column].mean()\n",
        "    std_dev = data[column].std()\n",
        "\n",
        "    # Calculate Z-scores manually\n",
        "    z_scores = np.abs((data[column] - mean) / std_dev)\n",
        "\n",
        "    # Filter the rows with Z-scores less than 3\n",
        "    data_no_outliers = data[z_scores < 3]\n",
        "    print(f\"Number of outliers in data: {data_no_outliers}\")\n",
        "\n",
        "    return data_no_outliers\n",
        "\n",
        "\n",
        "data = remove_outliers_manual(data, 'price')\n",
        "data = remove_outliers_manual(data, 'price Category')\n",
        "data\n",
        "data.info()"
      ],
      "metadata": {
        "colab": {
          "base_uri": "https://localhost:8080/"
        },
        "id": "lK0cqrx4uiul",
        "outputId": "4cc5e823-53c7-43fb-b49e-86c1f4258768"
      },
      "execution_count": null,
      "outputs": [
        {
          "output_type": "stream",
          "name": "stdout",
          "text": [
            "Number of outliers in data:        bedrooms  bathrooms  toilets  parking_space                 title  \\\n",
            "0           6.0        5.0      5.0            4.0       Detached Duplex   \n",
            "1           4.0        5.0      5.0            4.0     Terraced Duplexes   \n",
            "2           4.0        5.0      5.0            4.0       Detached Duplex   \n",
            "3           4.0        4.0      5.0            6.0       Detached Duplex   \n",
            "4           4.0        4.0      5.0            2.0  Semi Detached Duplex   \n",
            "...         ...        ...      ...            ...                   ...   \n",
            "24319       8.0        8.0      9.0            4.0       Detached Duplex   \n",
            "24320       3.0        4.0      4.0            5.0       Detached Duplex   \n",
            "24321       2.0        2.0      2.0            4.0        Block of Flats   \n",
            "24322       4.0        5.0      5.0            4.0        Block of Flats   \n",
            "24324       3.0        4.0      4.0            3.0        Block of Flats   \n",
            "\n",
            "                       town  state       price  price Category  \n",
            "0                   Mabushi  Abuja   450000000               1  \n",
            "1                   Katampe  Abuja   800000000               1  \n",
            "2                     Lekki  Lagos   120000000               1  \n",
            "3                      Ajah  Lagos    40000000               1  \n",
            "4                     Lekki  Lagos    75000000               1  \n",
            "...                     ...    ...         ...             ...  \n",
            "24319       Guzape District  Abuja  1000000000               1  \n",
            "24320                 Lekki  Lagos    80000000               1  \n",
            "24321                Kabusa  Abuja    15000000               1  \n",
            "24322           Ado-Odo/Ota   Ogun    25000000               1  \n",
            "24324  Victoria Island (VI)  Lagos    78000000               1  \n",
            "\n",
            "[13880 rows x 9 columns]\n",
            "Number of outliers in data:        bedrooms  bathrooms  toilets  parking_space                 title  \\\n",
            "0           6.0        5.0      5.0            4.0       Detached Duplex   \n",
            "1           4.0        5.0      5.0            4.0     Terraced Duplexes   \n",
            "2           4.0        5.0      5.0            4.0       Detached Duplex   \n",
            "3           4.0        4.0      5.0            6.0       Detached Duplex   \n",
            "4           4.0        4.0      5.0            2.0  Semi Detached Duplex   \n",
            "...         ...        ...      ...            ...                   ...   \n",
            "24319       8.0        8.0      9.0            4.0       Detached Duplex   \n",
            "24320       3.0        4.0      4.0            5.0       Detached Duplex   \n",
            "24321       2.0        2.0      2.0            4.0        Block of Flats   \n",
            "24322       4.0        5.0      5.0            4.0        Block of Flats   \n",
            "24324       3.0        4.0      4.0            3.0        Block of Flats   \n",
            "\n",
            "                       town  state       price  price Category  \n",
            "0                   Mabushi  Abuja   450000000               1  \n",
            "1                   Katampe  Abuja   800000000               1  \n",
            "2                     Lekki  Lagos   120000000               1  \n",
            "3                      Ajah  Lagos    40000000               1  \n",
            "4                     Lekki  Lagos    75000000               1  \n",
            "...                     ...    ...         ...             ...  \n",
            "24319       Guzape District  Abuja  1000000000               1  \n",
            "24320                 Lekki  Lagos    80000000               1  \n",
            "24321                Kabusa  Abuja    15000000               1  \n",
            "24322           Ado-Odo/Ota   Ogun    25000000               1  \n",
            "24324  Victoria Island (VI)  Lagos    78000000               1  \n",
            "\n",
            "[13767 rows x 9 columns]\n",
            "<class 'pandas.core.frame.DataFrame'>\n",
            "Index: 13767 entries, 0 to 24324\n",
            "Data columns (total 9 columns):\n",
            " #   Column          Non-Null Count  Dtype  \n",
            "---  ------          --------------  -----  \n",
            " 0   bedrooms        13767 non-null  float64\n",
            " 1   bathrooms       13767 non-null  float64\n",
            " 2   toilets         13767 non-null  float64\n",
            " 3   parking_space   13767 non-null  float64\n",
            " 4   title           13767 non-null  object \n",
            " 5   town            13767 non-null  object \n",
            " 6   state           13767 non-null  object \n",
            " 7   price           13767 non-null  int64  \n",
            " 8   price Category  13767 non-null  int64  \n",
            "dtypes: float64(4), int64(2), object(3)\n",
            "memory usage: 1.1+ MB\n"
          ]
        }
      ]
    },
    {
      "cell_type": "code",
      "source": [
        "data.columns\n",
        "\n",
        "data.reset_index(drop=True, inplace=True)\n",
        "data.info()"
      ],
      "metadata": {
        "colab": {
          "base_uri": "https://localhost:8080/"
        },
        "id": "WFQXKO4DwwT5",
        "outputId": "9a84967a-daa3-4796-d061-9688f96e7b27"
      },
      "execution_count": null,
      "outputs": [
        {
          "output_type": "stream",
          "name": "stdout",
          "text": [
            "<class 'pandas.core.frame.DataFrame'>\n",
            "RangeIndex: 13767 entries, 0 to 13766\n",
            "Data columns (total 9 columns):\n",
            " #   Column          Non-Null Count  Dtype  \n",
            "---  ------          --------------  -----  \n",
            " 0   bedrooms        13767 non-null  float64\n",
            " 1   bathrooms       13767 non-null  float64\n",
            " 2   toilets         13767 non-null  float64\n",
            " 3   parking_space   13767 non-null  float64\n",
            " 4   title           13767 non-null  object \n",
            " 5   town            13767 non-null  object \n",
            " 6   state           13767 non-null  object \n",
            " 7   price           13767 non-null  int64  \n",
            " 8   price Category  13767 non-null  int64  \n",
            "dtypes: float64(4), int64(2), object(3)\n",
            "memory usage: 968.1+ KB\n"
          ]
        }
      ]
    },
    {
      "cell_type": "code",
      "source": [
        "# Apply log transformation to price for regression stability\n",
        "data['log_price'] = np.log1p(data['price'])\n",
        "\n",
        "# Define features and target for regression\n",
        "X_reg = data.drop(columns=['price', 'log_price', 'price Category'])\n",
        "y_reg = data['log_price']\n",
        "\n",
        "# Define features and target for classification\n",
        "X_clf = data.drop(columns=['price', 'log_price', 'price Category'])\n",
        "y_clf = data['price Category']\n",
        "\n",
        "# Identify categorical and numerical features\n",
        "categorical_features = ['title', 'town', 'state']\n",
        "numerical_features = ['bedrooms', 'bathrooms', 'toilets', 'parking_space']\n",
        "\n",
        "# Create preprocessing pipelines\n",
        "preprocessor = ColumnTransformer([\n",
        "    ('cat', OneHotEncoder(handle_unknown='ignore'), categorical_features),\n",
        "    ('num', StandardScaler(), numerical_features)\n",
        "])"
      ],
      "metadata": {
        "id": "ooaa58kkrq81"
      },
      "execution_count": null,
      "outputs": []
    },
    {
      "cell_type": "code",
      "source": [
        "# ----------------- Regression Models ------------------\n",
        "# Linear Regression pipeline\n",
        "lr_pipeline = Pipeline([\n",
        "    ('preprocessor', preprocessor),\n",
        "    ('regressor', LinearRegression())\n",
        "])\n",
        "\n",
        "# Random Forest Regressor pipeline\n",
        "rf_pipeline = Pipeline([\n",
        "    ('preprocessor', preprocessor),\n",
        "    ('regressor', RandomForestRegressor(random_state=42))\n",
        "])"
      ],
      "metadata": {
        "id": "sNKXGUAkr_6r"
      },
      "execution_count": null,
      "outputs": []
    },
    {
      "cell_type": "code",
      "source": [
        "# Train-test split for regression\n",
        "X_reg_train, X_reg_test, y_reg_train, y_reg_test = train_test_split(X_reg, y_reg, test_size=0.2, random_state=42)\n",
        "\n",
        "# Train models\n",
        "lr_pipeline.fit(X_reg_train, y_reg_train)\n",
        "rf_pipeline.fit(X_reg_train, y_reg_train)\n",
        "\n",
        "# Predict and evaluate\n",
        "lr_preds = lr_pipeline.predict(X_reg_test)\n",
        "rf_preds = rf_pipeline.predict(X_reg_test)\n",
        "lr_mse = mean_squared_error(y_reg_test, lr_preds)\n",
        "lr_r2 = r2_score(y_reg_test, lr_preds)\n",
        "rf_mse = mean_squared_error(y_reg_test, rf_preds)\n",
        "rf_r2 = r2_score(y_reg_test, rf_preds)"
      ],
      "metadata": {
        "id": "fg2Ec6EysbDx"
      },
      "execution_count": null,
      "outputs": []
    },
    {
      "cell_type": "code",
      "source": [
        "# ----------------- Classification Models ------------------\n",
        "# Calculate class weights for logistic regression\n",
        "class_weights = compute_class_weight(class_weight='balanced', classes=np.unique(y_clf), y=y_clf)\n",
        "class_weight_dict = dict(zip(np.unique(y_clf), class_weights))\n",
        "\n",
        "# Logistic Regression pipeline\n",
        "log_clf_pipeline = Pipeline([\n",
        "    ('preprocessor', preprocessor),\n",
        "    ('classifier', LogisticRegression(max_iter=1000, class_weight=class_weight_dict))\n",
        "])\n",
        "\n",
        "# Random Forest Classifier pipeline\n",
        "rf_clf_pipeline = Pipeline([\n",
        "    ('preprocessor', preprocessor),\n",
        "    ('classifier', RandomForestClassifier(random_state=42, class_weight='balanced'))\n",
        "])"
      ],
      "metadata": {
        "id": "N7q6kJlOs1Rc"
      },
      "execution_count": null,
      "outputs": []
    },
    {
      "cell_type": "code",
      "source": [
        "# Train-test split for classification\n",
        "X_clf_train, X_clf_test, y_clf_train, y_clf_test = train_test_split(X_clf, y_clf, test_size=0.2, random_state=42)\n",
        "\n",
        "# Train models\n",
        "log_clf_pipeline.fit(X_clf_train, y_clf_train)\n",
        "rf_clf_pipeline.fit(X_clf_train, y_clf_train)\n",
        "\n",
        "# Predict and evaluate\n",
        "log_preds = log_clf_pipeline.predict(X_clf_test)\n",
        "rf_preds = rf_clf_pipeline.predict(X_clf_test)\n",
        "log_report = classification_report(y_clf_test, log_preds, output_dict=True)\n",
        "rf_report = classification_report(y_clf_test, rf_preds, output_dict=True)"
      ],
      "metadata": {
        "id": "MTPlxgwdtY_5",
        "colab": {
          "base_uri": "https://localhost:8080/",
          "height": 758
        },
        "outputId": "e5705ca3-45a5-41aa-caf2-d06f1a944aef"
      },
      "execution_count": null,
      "outputs": [
        {
          "output_type": "error",
          "ename": "ValueError",
          "evalue": "This solver needs samples of at least 2 classes in the data, but the data contains only one class: np.int64(1)",
          "traceback": [
            "\u001b[0;31m---------------------------------------------------------------------------\u001b[0m",
            "\u001b[0;31mValueError\u001b[0m                                Traceback (most recent call last)",
            "\u001b[0;32m<ipython-input-22-e2ced9077d94>\u001b[0m in \u001b[0;36m<cell line: 0>\u001b[0;34m()\u001b[0m\n\u001b[1;32m      3\u001b[0m \u001b[0;34m\u001b[0m\u001b[0m\n\u001b[1;32m      4\u001b[0m \u001b[0;31m# Train models\u001b[0m\u001b[0;34m\u001b[0m\u001b[0;34m\u001b[0m\u001b[0m\n\u001b[0;32m----> 5\u001b[0;31m \u001b[0mlog_clf_pipeline\u001b[0m\u001b[0;34m.\u001b[0m\u001b[0mfit\u001b[0m\u001b[0;34m(\u001b[0m\u001b[0mX_clf_train\u001b[0m\u001b[0;34m,\u001b[0m \u001b[0my_clf_train\u001b[0m\u001b[0;34m)\u001b[0m\u001b[0;34m\u001b[0m\u001b[0;34m\u001b[0m\u001b[0m\n\u001b[0m\u001b[1;32m      6\u001b[0m \u001b[0mrf_clf_pipeline\u001b[0m\u001b[0;34m.\u001b[0m\u001b[0mfit\u001b[0m\u001b[0;34m(\u001b[0m\u001b[0mX_clf_train\u001b[0m\u001b[0;34m,\u001b[0m \u001b[0my_clf_train\u001b[0m\u001b[0;34m)\u001b[0m\u001b[0;34m\u001b[0m\u001b[0;34m\u001b[0m\u001b[0m\n\u001b[1;32m      7\u001b[0m \u001b[0;34m\u001b[0m\u001b[0m\n",
            "\u001b[0;32m/usr/local/lib/python3.11/dist-packages/sklearn/base.py\u001b[0m in \u001b[0;36mwrapper\u001b[0;34m(estimator, *args, **kwargs)\u001b[0m\n\u001b[1;32m   1387\u001b[0m                 )\n\u001b[1;32m   1388\u001b[0m             ):\n\u001b[0;32m-> 1389\u001b[0;31m                 \u001b[0;32mreturn\u001b[0m \u001b[0mfit_method\u001b[0m\u001b[0;34m(\u001b[0m\u001b[0mestimator\u001b[0m\u001b[0;34m,\u001b[0m \u001b[0;34m*\u001b[0m\u001b[0margs\u001b[0m\u001b[0;34m,\u001b[0m \u001b[0;34m**\u001b[0m\u001b[0mkwargs\u001b[0m\u001b[0;34m)\u001b[0m\u001b[0;34m\u001b[0m\u001b[0;34m\u001b[0m\u001b[0m\n\u001b[0m\u001b[1;32m   1390\u001b[0m \u001b[0;34m\u001b[0m\u001b[0m\n\u001b[1;32m   1391\u001b[0m         \u001b[0;32mreturn\u001b[0m \u001b[0mwrapper\u001b[0m\u001b[0;34m\u001b[0m\u001b[0;34m\u001b[0m\u001b[0m\n",
            "\u001b[0;32m/usr/local/lib/python3.11/dist-packages/sklearn/pipeline.py\u001b[0m in \u001b[0;36mfit\u001b[0;34m(self, X, y, **params)\u001b[0m\n\u001b[1;32m    660\u001b[0m                     \u001b[0mall_params\u001b[0m\u001b[0;34m=\u001b[0m\u001b[0mparams\u001b[0m\u001b[0;34m,\u001b[0m\u001b[0;34m\u001b[0m\u001b[0;34m\u001b[0m\u001b[0m\n\u001b[1;32m    661\u001b[0m                 )\n\u001b[0;32m--> 662\u001b[0;31m                 \u001b[0mself\u001b[0m\u001b[0;34m.\u001b[0m\u001b[0m_final_estimator\u001b[0m\u001b[0;34m.\u001b[0m\u001b[0mfit\u001b[0m\u001b[0;34m(\u001b[0m\u001b[0mXt\u001b[0m\u001b[0;34m,\u001b[0m \u001b[0my\u001b[0m\u001b[0;34m,\u001b[0m \u001b[0;34m**\u001b[0m\u001b[0mlast_step_params\u001b[0m\u001b[0;34m[\u001b[0m\u001b[0;34m\"fit\"\u001b[0m\u001b[0;34m]\u001b[0m\u001b[0;34m)\u001b[0m\u001b[0;34m\u001b[0m\u001b[0;34m\u001b[0m\u001b[0m\n\u001b[0m\u001b[1;32m    663\u001b[0m \u001b[0;34m\u001b[0m\u001b[0m\n\u001b[1;32m    664\u001b[0m         \u001b[0;32mreturn\u001b[0m \u001b[0mself\u001b[0m\u001b[0;34m\u001b[0m\u001b[0;34m\u001b[0m\u001b[0m\n",
            "\u001b[0;32m/usr/local/lib/python3.11/dist-packages/sklearn/base.py\u001b[0m in \u001b[0;36mwrapper\u001b[0;34m(estimator, *args, **kwargs)\u001b[0m\n\u001b[1;32m   1387\u001b[0m                 )\n\u001b[1;32m   1388\u001b[0m             ):\n\u001b[0;32m-> 1389\u001b[0;31m                 \u001b[0;32mreturn\u001b[0m \u001b[0mfit_method\u001b[0m\u001b[0;34m(\u001b[0m\u001b[0mestimator\u001b[0m\u001b[0;34m,\u001b[0m \u001b[0;34m*\u001b[0m\u001b[0margs\u001b[0m\u001b[0;34m,\u001b[0m \u001b[0;34m**\u001b[0m\u001b[0mkwargs\u001b[0m\u001b[0;34m)\u001b[0m\u001b[0;34m\u001b[0m\u001b[0;34m\u001b[0m\u001b[0m\n\u001b[0m\u001b[1;32m   1390\u001b[0m \u001b[0;34m\u001b[0m\u001b[0m\n\u001b[1;32m   1391\u001b[0m         \u001b[0;32mreturn\u001b[0m \u001b[0mwrapper\u001b[0m\u001b[0;34m\u001b[0m\u001b[0;34m\u001b[0m\u001b[0m\n",
            "\u001b[0;32m/usr/local/lib/python3.11/dist-packages/sklearn/linear_model/_logistic.py\u001b[0m in \u001b[0;36mfit\u001b[0;34m(self, X, y, sample_weight)\u001b[0m\n\u001b[1;32m   1299\u001b[0m         \u001b[0mclasses_\u001b[0m \u001b[0;34m=\u001b[0m \u001b[0mself\u001b[0m\u001b[0;34m.\u001b[0m\u001b[0mclasses_\u001b[0m\u001b[0;34m\u001b[0m\u001b[0;34m\u001b[0m\u001b[0m\n\u001b[1;32m   1300\u001b[0m         \u001b[0;32mif\u001b[0m \u001b[0mn_classes\u001b[0m \u001b[0;34m<\u001b[0m \u001b[0;36m2\u001b[0m\u001b[0;34m:\u001b[0m\u001b[0;34m\u001b[0m\u001b[0;34m\u001b[0m\u001b[0m\n\u001b[0;32m-> 1301\u001b[0;31m             raise ValueError(\n\u001b[0m\u001b[1;32m   1302\u001b[0m                 \u001b[0;34m\"This solver needs samples of at least 2 classes\"\u001b[0m\u001b[0;34m\u001b[0m\u001b[0;34m\u001b[0m\u001b[0m\n\u001b[1;32m   1303\u001b[0m                 \u001b[0;34m\" in the data, but the data contains only one\"\u001b[0m\u001b[0;34m\u001b[0m\u001b[0;34m\u001b[0m\u001b[0m\n",
            "\u001b[0;31mValueError\u001b[0m: This solver needs samples of at least 2 classes in the data, but the data contains only one class: np.int64(1)"
          ]
        }
      ]
    }
  ]
}