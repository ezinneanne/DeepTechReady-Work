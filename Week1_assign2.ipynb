{
  "nbformat": 4,
  "nbformat_minor": 0,
  "metadata": {
    "colab": {
      "provenance": [],
      "authorship_tag": "ABX9TyMvIlYoPLt6KoPPBRaC2nnx",
      "include_colab_link": true
    },
    "kernelspec": {
      "name": "python3",
      "display_name": "Python 3"
    },
    "language_info": {
      "name": "python"
    }
  },
  "cells": [
    {
      "cell_type": "markdown",
      "metadata": {
        "id": "view-in-github",
        "colab_type": "text"
      },
      "source": [
        "<a href=\"https://colab.research.google.com/github/ezinneanne/DeepTechReady-Work/blob/deepdev/Week1_assign2.ipynb\" target=\"_parent\"><img src=\"https://colab.research.google.com/assets/colab-badge.svg\" alt=\"Open In Colab\"/></a>"
      ]
    },
    {
      "cell_type": "markdown",
      "source": [
        "assignment 2\n",
        "\n",
        "I've prepared an assignment for you The data set for this assignment is a house pricing data set which is similar to this session demo data.\n",
        "\n",
        "The goal of this assignment is to build and compare two models on classification and regression.\n",
        "\n",
        "You are to choose a classification and regression model that we have explored during the demo and another classification and regression model not explored in our demo.\n",
        "\n",
        "An example for classification is using random forest classifier and an example of a regression model is support vector machine.\n",
        "\n",
        "Do not fret as you can find these models and more about their documentation on the Sci-learn website.\n",
        "\n",
        "There are also relevant links that I've provided in the Jupiter notebook to see more of these models. Finally you are required to evaluate the models in each category to determine which performs best for predicting the house price and the house price category.\n",
        "\n",
        "Remember to upload your completed assignment to the learning portal.\n",
        "\n",
        "The full assignment details and the deliverables you are required to submit will also be made available on the learning portal. If you do encounter any challenges don't hesitate to reach out to a teaching assistant for supports You can also engage via Google Classroom for additional guidance and clarification."
      ],
      "metadata": {
        "id": "9DXx6Xgo2uaG"
      }
    },
    {
      "cell_type": "code",
      "execution_count": null,
      "metadata": {
        "id": "ftlXwvFn2lQC"
      },
      "outputs": [],
      "source": [
        "#model used in the demo\n",
        "#linear regression for regression\n",
        "#logistic regression for classification\n",
        "\n",
        "#models not used in the demo\n",
        "#randomforestclassifier for classification\n",
        "#randomforestregressor for regression"
      ]
    },
    {
      "cell_type": "code",
      "source": [
        "# Mounting gdrive\n",
        "from google.colab import drive\n",
        "drive.mount('/content/drive', force_remount=True)"
      ],
      "metadata": {
        "colab": {
          "base_uri": "https://localhost:8080/"
        },
        "id": "OCBcFm_I3eFD",
        "outputId": "4b0e3d39-4b29-4f91-8651-8076a0595ae1"
      },
      "execution_count": 1,
      "outputs": [
        {
          "output_type": "stream",
          "name": "stdout",
          "text": [
            "Mounted at /content/drive\n"
          ]
        }
      ]
    },
    {
      "cell_type": "code",
      "source": [
        "#importing libraries\n",
        "import pandas as pd\n",
        "import numpy as np\n",
        "from sklearn.model_selection import train_test_split, GridSearchCV\n",
        "from sklearn.linear_model import LinearRegression, LogisticRegression\n",
        "from sklearn.ensemble import RandomForestRegressor, RandomForestClassifier\n",
        "from sklearn.preprocessing import OneHotEncoder, StandardScaler\n",
        "from sklearn.compose import ColumnTransformer\n",
        "from sklearn.pipeline import Pipeline\n",
        "from sklearn.metrics import mean_squared_error, r2_score, classification_report\n",
        "from sklearn.utils.class_weight import compute_class_weight"
      ],
      "metadata": {
        "id": "v4RtQ3vb3oJM"
      },
      "execution_count": 2,
      "outputs": []
    },
    {
      "cell_type": "code",
      "source": [
        "# Set parameters\n",
        "DATA_DIR = '/content/drive/MyDrive/'\n",
        "\n",
        "\n",
        "# Reading the dataset\n",
        "data = pd.read_csv(DATA_DIR + 'nigeria_houses_cc.csv', encoding='latin1')\n",
        "# display the first 5 rows\n",
        "data.head()"
      ],
      "metadata": {
        "colab": {
          "base_uri": "https://localhost:8080/",
          "height": 206
        },
        "id": "CQURa-ng3kL4",
        "outputId": "69a1b113-7017-4fc4-bba2-664af53dd7d4"
      },
      "execution_count": 3,
      "outputs": [
        {
          "output_type": "execute_result",
          "data": {
            "text/plain": [
              "   bedrooms  bathrooms  toilets  parking_space                 title     town  \\\n",
              "0       6.0        5.0      5.0            4.0       Detached Duplex  Mabushi   \n",
              "1       4.0        5.0      5.0            4.0     Terraced Duplexes  Katampe   \n",
              "2       4.0        5.0      5.0            4.0       Detached Duplex    Lekki   \n",
              "3       4.0        4.0      5.0            6.0       Detached Duplex     Ajah   \n",
              "4       4.0        4.0      5.0            2.0  Semi Detached Duplex    Lekki   \n",
              "\n",
              "   state      price  price Category  \n",
              "0  Abuja  450000000               1  \n",
              "1  Abuja  800000000               1  \n",
              "2  Lagos  120000000               1  \n",
              "3  Lagos   40000000               1  \n",
              "4  Lagos   75000000               1  "
            ],
            "text/html": [
              "\n",
              "  <div id=\"df-d3afc6b0-ddda-48f4-a5bd-81c1aba0b157\" class=\"colab-df-container\">\n",
              "    <div>\n",
              "<style scoped>\n",
              "    .dataframe tbody tr th:only-of-type {\n",
              "        vertical-align: middle;\n",
              "    }\n",
              "\n",
              "    .dataframe tbody tr th {\n",
              "        vertical-align: top;\n",
              "    }\n",
              "\n",
              "    .dataframe thead th {\n",
              "        text-align: right;\n",
              "    }\n",
              "</style>\n",
              "<table border=\"1\" class=\"dataframe\">\n",
              "  <thead>\n",
              "    <tr style=\"text-align: right;\">\n",
              "      <th></th>\n",
              "      <th>bedrooms</th>\n",
              "      <th>bathrooms</th>\n",
              "      <th>toilets</th>\n",
              "      <th>parking_space</th>\n",
              "      <th>title</th>\n",
              "      <th>town</th>\n",
              "      <th>state</th>\n",
              "      <th>price</th>\n",
              "      <th>price Category</th>\n",
              "    </tr>\n",
              "  </thead>\n",
              "  <tbody>\n",
              "    <tr>\n",
              "      <th>0</th>\n",
              "      <td>6.0</td>\n",
              "      <td>5.0</td>\n",
              "      <td>5.0</td>\n",
              "      <td>4.0</td>\n",
              "      <td>Detached Duplex</td>\n",
              "      <td>Mabushi</td>\n",
              "      <td>Abuja</td>\n",
              "      <td>450000000</td>\n",
              "      <td>1</td>\n",
              "    </tr>\n",
              "    <tr>\n",
              "      <th>1</th>\n",
              "      <td>4.0</td>\n",
              "      <td>5.0</td>\n",
              "      <td>5.0</td>\n",
              "      <td>4.0</td>\n",
              "      <td>Terraced Duplexes</td>\n",
              "      <td>Katampe</td>\n",
              "      <td>Abuja</td>\n",
              "      <td>800000000</td>\n",
              "      <td>1</td>\n",
              "    </tr>\n",
              "    <tr>\n",
              "      <th>2</th>\n",
              "      <td>4.0</td>\n",
              "      <td>5.0</td>\n",
              "      <td>5.0</td>\n",
              "      <td>4.0</td>\n",
              "      <td>Detached Duplex</td>\n",
              "      <td>Lekki</td>\n",
              "      <td>Lagos</td>\n",
              "      <td>120000000</td>\n",
              "      <td>1</td>\n",
              "    </tr>\n",
              "    <tr>\n",
              "      <th>3</th>\n",
              "      <td>4.0</td>\n",
              "      <td>4.0</td>\n",
              "      <td>5.0</td>\n",
              "      <td>6.0</td>\n",
              "      <td>Detached Duplex</td>\n",
              "      <td>Ajah</td>\n",
              "      <td>Lagos</td>\n",
              "      <td>40000000</td>\n",
              "      <td>1</td>\n",
              "    </tr>\n",
              "    <tr>\n",
              "      <th>4</th>\n",
              "      <td>4.0</td>\n",
              "      <td>4.0</td>\n",
              "      <td>5.0</td>\n",
              "      <td>2.0</td>\n",
              "      <td>Semi Detached Duplex</td>\n",
              "      <td>Lekki</td>\n",
              "      <td>Lagos</td>\n",
              "      <td>75000000</td>\n",
              "      <td>1</td>\n",
              "    </tr>\n",
              "  </tbody>\n",
              "</table>\n",
              "</div>\n",
              "    <div class=\"colab-df-buttons\">\n",
              "\n",
              "  <div class=\"colab-df-container\">\n",
              "    <button class=\"colab-df-convert\" onclick=\"convertToInteractive('df-d3afc6b0-ddda-48f4-a5bd-81c1aba0b157')\"\n",
              "            title=\"Convert this dataframe to an interactive table.\"\n",
              "            style=\"display:none;\">\n",
              "\n",
              "  <svg xmlns=\"http://www.w3.org/2000/svg\" height=\"24px\" viewBox=\"0 -960 960 960\">\n",
              "    <path d=\"M120-120v-720h720v720H120Zm60-500h600v-160H180v160Zm220 220h160v-160H400v160Zm0 220h160v-160H400v160ZM180-400h160v-160H180v160Zm440 0h160v-160H620v160ZM180-180h160v-160H180v160Zm440 0h160v-160H620v160Z\"/>\n",
              "  </svg>\n",
              "    </button>\n",
              "\n",
              "  <style>\n",
              "    .colab-df-container {\n",
              "      display:flex;\n",
              "      gap: 12px;\n",
              "    }\n",
              "\n",
              "    .colab-df-convert {\n",
              "      background-color: #E8F0FE;\n",
              "      border: none;\n",
              "      border-radius: 50%;\n",
              "      cursor: pointer;\n",
              "      display: none;\n",
              "      fill: #1967D2;\n",
              "      height: 32px;\n",
              "      padding: 0 0 0 0;\n",
              "      width: 32px;\n",
              "    }\n",
              "\n",
              "    .colab-df-convert:hover {\n",
              "      background-color: #E2EBFA;\n",
              "      box-shadow: 0px 1px 2px rgba(60, 64, 67, 0.3), 0px 1px 3px 1px rgba(60, 64, 67, 0.15);\n",
              "      fill: #174EA6;\n",
              "    }\n",
              "\n",
              "    .colab-df-buttons div {\n",
              "      margin-bottom: 4px;\n",
              "    }\n",
              "\n",
              "    [theme=dark] .colab-df-convert {\n",
              "      background-color: #3B4455;\n",
              "      fill: #D2E3FC;\n",
              "    }\n",
              "\n",
              "    [theme=dark] .colab-df-convert:hover {\n",
              "      background-color: #434B5C;\n",
              "      box-shadow: 0px 1px 3px 1px rgba(0, 0, 0, 0.15);\n",
              "      filter: drop-shadow(0px 1px 2px rgba(0, 0, 0, 0.3));\n",
              "      fill: #FFFFFF;\n",
              "    }\n",
              "  </style>\n",
              "\n",
              "    <script>\n",
              "      const buttonEl =\n",
              "        document.querySelector('#df-d3afc6b0-ddda-48f4-a5bd-81c1aba0b157 button.colab-df-convert');\n",
              "      buttonEl.style.display =\n",
              "        google.colab.kernel.accessAllowed ? 'block' : 'none';\n",
              "\n",
              "      async function convertToInteractive(key) {\n",
              "        const element = document.querySelector('#df-d3afc6b0-ddda-48f4-a5bd-81c1aba0b157');\n",
              "        const dataTable =\n",
              "          await google.colab.kernel.invokeFunction('convertToInteractive',\n",
              "                                                    [key], {});\n",
              "        if (!dataTable) return;\n",
              "\n",
              "        const docLinkHtml = 'Like what you see? Visit the ' +\n",
              "          '<a target=\"_blank\" href=https://colab.research.google.com/notebooks/data_table.ipynb>data table notebook</a>'\n",
              "          + ' to learn more about interactive tables.';\n",
              "        element.innerHTML = '';\n",
              "        dataTable['output_type'] = 'display_data';\n",
              "        await google.colab.output.renderOutput(dataTable, element);\n",
              "        const docLink = document.createElement('div');\n",
              "        docLink.innerHTML = docLinkHtml;\n",
              "        element.appendChild(docLink);\n",
              "      }\n",
              "    </script>\n",
              "  </div>\n",
              "\n",
              "\n",
              "    <div id=\"df-30745812-b67b-4a8b-9518-9cf8fdef8aca\">\n",
              "      <button class=\"colab-df-quickchart\" onclick=\"quickchart('df-30745812-b67b-4a8b-9518-9cf8fdef8aca')\"\n",
              "                title=\"Suggest charts\"\n",
              "                style=\"display:none;\">\n",
              "\n",
              "<svg xmlns=\"http://www.w3.org/2000/svg\" height=\"24px\"viewBox=\"0 0 24 24\"\n",
              "     width=\"24px\">\n",
              "    <g>\n",
              "        <path d=\"M19 3H5c-1.1 0-2 .9-2 2v14c0 1.1.9 2 2 2h14c1.1 0 2-.9 2-2V5c0-1.1-.9-2-2-2zM9 17H7v-7h2v7zm4 0h-2V7h2v10zm4 0h-2v-4h2v4z\"/>\n",
              "    </g>\n",
              "</svg>\n",
              "      </button>\n",
              "\n",
              "<style>\n",
              "  .colab-df-quickchart {\n",
              "      --bg-color: #E8F0FE;\n",
              "      --fill-color: #1967D2;\n",
              "      --hover-bg-color: #E2EBFA;\n",
              "      --hover-fill-color: #174EA6;\n",
              "      --disabled-fill-color: #AAA;\n",
              "      --disabled-bg-color: #DDD;\n",
              "  }\n",
              "\n",
              "  [theme=dark] .colab-df-quickchart {\n",
              "      --bg-color: #3B4455;\n",
              "      --fill-color: #D2E3FC;\n",
              "      --hover-bg-color: #434B5C;\n",
              "      --hover-fill-color: #FFFFFF;\n",
              "      --disabled-bg-color: #3B4455;\n",
              "      --disabled-fill-color: #666;\n",
              "  }\n",
              "\n",
              "  .colab-df-quickchart {\n",
              "    background-color: var(--bg-color);\n",
              "    border: none;\n",
              "    border-radius: 50%;\n",
              "    cursor: pointer;\n",
              "    display: none;\n",
              "    fill: var(--fill-color);\n",
              "    height: 32px;\n",
              "    padding: 0;\n",
              "    width: 32px;\n",
              "  }\n",
              "\n",
              "  .colab-df-quickchart:hover {\n",
              "    background-color: var(--hover-bg-color);\n",
              "    box-shadow: 0 1px 2px rgba(60, 64, 67, 0.3), 0 1px 3px 1px rgba(60, 64, 67, 0.15);\n",
              "    fill: var(--button-hover-fill-color);\n",
              "  }\n",
              "\n",
              "  .colab-df-quickchart-complete:disabled,\n",
              "  .colab-df-quickchart-complete:disabled:hover {\n",
              "    background-color: var(--disabled-bg-color);\n",
              "    fill: var(--disabled-fill-color);\n",
              "    box-shadow: none;\n",
              "  }\n",
              "\n",
              "  .colab-df-spinner {\n",
              "    border: 2px solid var(--fill-color);\n",
              "    border-color: transparent;\n",
              "    border-bottom-color: var(--fill-color);\n",
              "    animation:\n",
              "      spin 1s steps(1) infinite;\n",
              "  }\n",
              "\n",
              "  @keyframes spin {\n",
              "    0% {\n",
              "      border-color: transparent;\n",
              "      border-bottom-color: var(--fill-color);\n",
              "      border-left-color: var(--fill-color);\n",
              "    }\n",
              "    20% {\n",
              "      border-color: transparent;\n",
              "      border-left-color: var(--fill-color);\n",
              "      border-top-color: var(--fill-color);\n",
              "    }\n",
              "    30% {\n",
              "      border-color: transparent;\n",
              "      border-left-color: var(--fill-color);\n",
              "      border-top-color: var(--fill-color);\n",
              "      border-right-color: var(--fill-color);\n",
              "    }\n",
              "    40% {\n",
              "      border-color: transparent;\n",
              "      border-right-color: var(--fill-color);\n",
              "      border-top-color: var(--fill-color);\n",
              "    }\n",
              "    60% {\n",
              "      border-color: transparent;\n",
              "      border-right-color: var(--fill-color);\n",
              "    }\n",
              "    80% {\n",
              "      border-color: transparent;\n",
              "      border-right-color: var(--fill-color);\n",
              "      border-bottom-color: var(--fill-color);\n",
              "    }\n",
              "    90% {\n",
              "      border-color: transparent;\n",
              "      border-bottom-color: var(--fill-color);\n",
              "    }\n",
              "  }\n",
              "</style>\n",
              "\n",
              "      <script>\n",
              "        async function quickchart(key) {\n",
              "          const quickchartButtonEl =\n",
              "            document.querySelector('#' + key + ' button');\n",
              "          quickchartButtonEl.disabled = true;  // To prevent multiple clicks.\n",
              "          quickchartButtonEl.classList.add('colab-df-spinner');\n",
              "          try {\n",
              "            const charts = await google.colab.kernel.invokeFunction(\n",
              "                'suggestCharts', [key], {});\n",
              "          } catch (error) {\n",
              "            console.error('Error during call to suggestCharts:', error);\n",
              "          }\n",
              "          quickchartButtonEl.classList.remove('colab-df-spinner');\n",
              "          quickchartButtonEl.classList.add('colab-df-quickchart-complete');\n",
              "        }\n",
              "        (() => {\n",
              "          let quickchartButtonEl =\n",
              "            document.querySelector('#df-30745812-b67b-4a8b-9518-9cf8fdef8aca button');\n",
              "          quickchartButtonEl.style.display =\n",
              "            google.colab.kernel.accessAllowed ? 'block' : 'none';\n",
              "        })();\n",
              "      </script>\n",
              "    </div>\n",
              "\n",
              "    </div>\n",
              "  </div>\n"
            ],
            "application/vnd.google.colaboratory.intrinsic+json": {
              "type": "dataframe",
              "variable_name": "data",
              "summary": "{\n  \"name\": \"data\",\n  \"rows\": 24326,\n  \"fields\": [\n    {\n      \"column\": \"bedrooms\",\n      \"properties\": {\n        \"dtype\": \"number\",\n        \"std\": 1.1384974394640044,\n        \"min\": 1.0,\n        \"max\": 9.0,\n        \"num_unique_values\": 9,\n        \"samples\": [\n          9.0,\n          4.0,\n          3.0\n        ],\n        \"semantic_type\": \"\",\n        \"description\": \"\"\n      }\n    },\n    {\n      \"column\": \"bathrooms\",\n      \"properties\": {\n        \"dtype\": \"number\",\n        \"std\": 1.1631608869192767,\n        \"min\": 1.0,\n        \"max\": 9.0,\n        \"num_unique_values\": 9,\n        \"samples\": [\n          7.0,\n          4.0,\n          3.0\n        ],\n        \"semantic_type\": \"\",\n        \"description\": \"\"\n      }\n    },\n    {\n      \"column\": \"toilets\",\n      \"properties\": {\n        \"dtype\": \"number\",\n        \"std\": 1.2262533973018215,\n        \"min\": 1.0,\n        \"max\": 9.0,\n        \"num_unique_values\": 9,\n        \"samples\": [\n          2.0,\n          6.0,\n          4.0\n        ],\n        \"semantic_type\": \"\",\n        \"description\": \"\"\n      }\n    },\n    {\n      \"column\": \"parking_space\",\n      \"properties\": {\n        \"dtype\": \"number\",\n        \"std\": 1.3999361198619311,\n        \"min\": 1.0,\n        \"max\": 9.0,\n        \"num_unique_values\": 9,\n        \"samples\": [\n          7.0,\n          6.0,\n          3.0\n        ],\n        \"semantic_type\": \"\",\n        \"description\": \"\"\n      }\n    },\n    {\n      \"column\": \"title\",\n      \"properties\": {\n        \"dtype\": \"category\",\n        \"num_unique_values\": 7,\n        \"samples\": [\n          \"Detached Duplex\",\n          \"Terraced Duplexes\",\n          \"Semi Detached Bungalow\"\n        ],\n        \"semantic_type\": \"\",\n        \"description\": \"\"\n      }\n    },\n    {\n      \"column\": \"town\",\n      \"properties\": {\n        \"dtype\": \"category\",\n        \"num_unique_values\": 189,\n        \"samples\": [\n          \"Ughelli North\",\n          \"Jos North\",\n          \"Yaba\"\n        ],\n        \"semantic_type\": \"\",\n        \"description\": \"\"\n      }\n    },\n    {\n      \"column\": \"state\",\n      \"properties\": {\n        \"dtype\": \"category\",\n        \"num_unique_values\": 25,\n        \"samples\": [\n          \"Enugu\",\n          \"Ekiti\",\n          \"Abuja\"\n        ],\n        \"semantic_type\": \"\",\n        \"description\": \"\"\n      }\n    },\n    {\n      \"column\": \"price\",\n      \"properties\": {\n        \"dtype\": \"number\",\n        \"std\": 12204027269,\n        \"min\": 90000,\n        \"max\": 1800000000000,\n        \"num_unique_values\": 539,\n        \"samples\": [\n          199900000,\n          190000000,\n          65500000\n        ],\n        \"semantic_type\": \"\",\n        \"description\": \"\"\n      }\n    },\n    {\n      \"column\": \"price Category\",\n      \"properties\": {\n        \"dtype\": \"number\",\n        \"std\": 0,\n        \"min\": 0,\n        \"max\": 1,\n        \"num_unique_values\": 2,\n        \"samples\": [\n          0,\n          1\n        ],\n        \"semantic_type\": \"\",\n        \"description\": \"\"\n      }\n    }\n  ]\n}"
            }
          },
          "metadata": {},
          "execution_count": 3
        }
      ]
    },
    {
      "cell_type": "code",
      "source": [
        "# Basic cleanup: Drop duplicates and rows with missing values\n",
        "data.drop_duplicates(inplace=True)\n",
        "data.dropna(inplace=True)\n",
        "data.info()"
      ],
      "metadata": {
        "colab": {
          "base_uri": "https://localhost:8080/"
        },
        "id": "LF0X27Z34Els",
        "outputId": "0c2f8be7-c4ce-438e-d03c-9aa7767b5c2c"
      },
      "execution_count": 4,
      "outputs": [
        {
          "output_type": "stream",
          "name": "stdout",
          "text": [
            "<class 'pandas.core.frame.DataFrame'>\n",
            "Index: 13888 entries, 0 to 24324\n",
            "Data columns (total 9 columns):\n",
            " #   Column          Non-Null Count  Dtype  \n",
            "---  ------          --------------  -----  \n",
            " 0   bedrooms        13888 non-null  float64\n",
            " 1   bathrooms       13888 non-null  float64\n",
            " 2   toilets         13888 non-null  float64\n",
            " 3   parking_space   13888 non-null  float64\n",
            " 4   title           13888 non-null  object \n",
            " 5   town            13888 non-null  object \n",
            " 6   state           13888 non-null  object \n",
            " 7   price           13888 non-null  int64  \n",
            " 8   price Category  13888 non-null  int64  \n",
            "dtypes: float64(4), int64(2), object(3)\n",
            "memory usage: 1.1+ MB\n"
          ]
        }
      ]
    },
    {
      "cell_type": "code",
      "source": [
        "data.reset_index(drop=True, inplace=True)\n",
        "data.info()"
      ],
      "metadata": {
        "colab": {
          "base_uri": "https://localhost:8080/"
        },
        "id": "ghJ0pEKe5ngC",
        "outputId": "7ae96f15-c223-4cb9-95ae-84919ad0dd7f"
      },
      "execution_count": 5,
      "outputs": [
        {
          "output_type": "stream",
          "name": "stdout",
          "text": [
            "<class 'pandas.core.frame.DataFrame'>\n",
            "RangeIndex: 13888 entries, 0 to 13887\n",
            "Data columns (total 9 columns):\n",
            " #   Column          Non-Null Count  Dtype  \n",
            "---  ------          --------------  -----  \n",
            " 0   bedrooms        13888 non-null  float64\n",
            " 1   bathrooms       13888 non-null  float64\n",
            " 2   toilets         13888 non-null  float64\n",
            " 3   parking_space   13888 non-null  float64\n",
            " 4   title           13888 non-null  object \n",
            " 5   town            13888 non-null  object \n",
            " 6   state           13888 non-null  object \n",
            " 7   price           13888 non-null  int64  \n",
            " 8   price Category  13888 non-null  int64  \n",
            "dtypes: float64(4), int64(2), object(3)\n",
            "memory usage: 976.6+ KB\n"
          ]
        }
      ]
    },
    {
      "cell_type": "code",
      "source": [
        "# Apply log transformation to price for regression stability\n",
        "data['log_price'] = np.log1p(data['price'])\n",
        "\n",
        "# Define features and target for regression\n",
        "X_reg = data.drop(columns=['price', 'log_price', 'price Category'])\n",
        "y_reg = data['log_price']\n",
        "\n",
        "# Define features and target for classification\n",
        "X_clf = data.drop(columns=['price', 'log_price', 'price Category'])\n",
        "y_clf = data['price Category']\n",
        "\n",
        "# Identify categorical and numerical features\n",
        "categorical_features = ['title', 'town', 'state']\n",
        "numerical_features = ['bedrooms', 'bathrooms', 'toilets', 'parking_space']\n",
        "\n",
        "# Create preprocessing pipelines\n",
        "preprocessor = ColumnTransformer([\n",
        "    ('cat', OneHotEncoder(handle_unknown='ignore'), categorical_features),\n",
        "    ('num', StandardScaler(), numerical_features)\n",
        "])"
      ],
      "metadata": {
        "id": "K1itL8bbvYtv"
      },
      "execution_count": 6,
      "outputs": []
    },
    {
      "cell_type": "code",
      "source": [
        "# ----------------- Regression Models ------------------\n",
        "# Linear Regression pipeline\n",
        "lr_pipeline = Pipeline([\n",
        "    ('preprocessor', preprocessor),\n",
        "    ('regressor', LinearRegression())\n",
        "])\n",
        "\n",
        "# Random Forest Regressor pipeline\n",
        "rf_pipeline = Pipeline([\n",
        "    ('preprocessor', preprocessor),\n",
        "    ('regressor', RandomForestRegressor(random_state=42))\n",
        "])"
      ],
      "metadata": {
        "id": "D3YAxFBX5Vtt"
      },
      "execution_count": 7,
      "outputs": []
    },
    {
      "cell_type": "code",
      "source": [
        "# Train-test split for regression\n",
        "X_reg_train, X_reg_test, y_reg_train, y_reg_test = train_test_split(X_reg, y_reg, test_size=0.2, random_state=42)\n",
        "\n",
        "# Train models\n",
        "lr_pipeline.fit(X_reg_train, y_reg_train)\n",
        "rf_pipeline.fit(X_reg_train, y_reg_train)\n",
        "\n",
        "# Predict and evaluate\n",
        "lr_preds = lr_pipeline.predict(X_reg_test)\n",
        "rf_preds = rf_pipeline.predict(X_reg_test)\n",
        "lr_mse = mean_squared_error(y_reg_test, lr_preds)\n",
        "lr_r2 = r2_score(y_reg_test, lr_preds)\n",
        "rf_mse = mean_squared_error(y_reg_test, rf_preds)\n",
        "rf_r2 = r2_score(y_reg_test, rf_preds)"
      ],
      "metadata": {
        "id": "gc3FI76q5ZEn"
      },
      "execution_count": 8,
      "outputs": []
    },
    {
      "cell_type": "code",
      "source": [
        "# Evaluation\n",
        "print(\"Linear Regression MSE:\", lr_mse)\n",
        "print(\"Linear Regression R2:\", lr_r2)\n",
        "\n",
        "print(\"Random Forest Regressor MSE:\", rf_mse)\n",
        "print(\"Random Forest Regressor R2:\", rf_r2)"
      ],
      "metadata": {
        "colab": {
          "base_uri": "https://localhost:8080/"
        },
        "id": "_Vu1szsp6y_S",
        "outputId": "d3381188-a6be-48eb-90f3-891172fd729e"
      },
      "execution_count": 9,
      "outputs": [
        {
          "output_type": "stream",
          "name": "stdout",
          "text": [
            "Linear Regression MSE: 0.5641295545519075\n",
            "Linear Regression R2: 0.6111562823059982\n",
            "Random Forest Regressor MSE: 0.6029511511906918\n",
            "Random Forest Regressor R2: 0.5843972978811662\n"
          ]
        }
      ]
    },
    {
      "cell_type": "code",
      "source": [
        "# ----------------- Classification Models ------------------\n",
        "# Calculate class weights for logistic regression\n",
        "class_weights = compute_class_weight(class_weight='balanced', classes=np.unique(y_clf), y=y_clf)\n",
        "class_weight_dict = dict(zip(np.unique(y_clf), class_weights))\n",
        "\n",
        "# Logistic Regression pipeline\n",
        "log_clf_pipeline = Pipeline([\n",
        "    ('preprocessor', preprocessor),\n",
        "    ('classifier', LogisticRegression(max_iter=1000, class_weight=class_weight_dict))\n",
        "])\n",
        "\n",
        "# Random Forest Classifier pipeline\n",
        "rf_clf_pipeline = Pipeline([\n",
        "    ('preprocessor', preprocessor),\n",
        "    ('classifier', RandomForestClassifier(random_state=42, class_weight='balanced'))\n",
        "])"
      ],
      "metadata": {
        "id": "tKYEQ2oH5d8g"
      },
      "execution_count": 10,
      "outputs": []
    },
    {
      "cell_type": "code",
      "source": [
        "# Train-test split for classification\n",
        "X_clf_train, X_clf_test, y_clf_train, y_clf_test = train_test_split(X_clf, y_clf, test_size=0.2, random_state=42)\n",
        "\n",
        "# Train models\n",
        "log_clf_pipeline.fit(X_clf_train, y_clf_train)\n",
        "rf_clf_pipeline.fit(X_clf_train, y_clf_train)\n",
        "\n",
        "# Predict and evaluate\n",
        "log_preds = log_clf_pipeline.predict(X_clf_test)\n",
        "rf_preds = rf_clf_pipeline.predict(X_clf_test)\n",
        "log_report = classification_report(y_clf_test, log_preds, output_dict=True)\n",
        "rf_report = classification_report(y_clf_test, rf_preds, output_dict=True)"
      ],
      "metadata": {
        "id": "qRqK2EVF711J"
      },
      "execution_count": 11,
      "outputs": []
    },
    {
      "cell_type": "code",
      "source": [
        "# Evaluation\n",
        "print(\"Logistic Regression Report:\\n\", log_report)\n",
        "print(\"Random Forest Classifier Report:\\n\", rf_report)"
      ],
      "metadata": {
        "colab": {
          "base_uri": "https://localhost:8080/"
        },
        "id": "JbE6kOWA8JfE",
        "outputId": "1533a029-6f5b-405d-9cfe-f85e18039e56"
      },
      "execution_count": 12,
      "outputs": [
        {
          "output_type": "stream",
          "name": "stdout",
          "text": [
            "Logistic Regression Report:\n",
            " {'0': {'precision': 0.05263157894736842, 'recall': 0.6333333333333333, 'f1-score': 0.09718670076726342, 'support': 30.0}, '1': {'precision': 0.9954489035995036, 'recall': 0.8755458515283843, 'f1-score': 0.9316553727008713, 'support': 2748.0}, 'accuracy': 0.8729301655867531, 'macro avg': {'precision': 0.524040241273436, 'recall': 0.7544395924308588, 'f1-score': 0.5144210367340674, 'support': 2778.0}, 'weighted avg': {'precision': 0.9852672910222668, 'recall': 0.8729301655867531, 'f1-score': 0.9226438319672471, 'support': 2778.0}}\n",
            "Random Forest Classifier Report:\n",
            " {'0': {'precision': 0.015384615384615385, 'recall': 0.03333333333333333, 'f1-score': 0.021052631578947368, 'support': 30.0}, '1': {'precision': 0.9893107261334316, 'recall': 0.9767103347889374, 'f1-score': 0.9829701519868156, 'support': 2748.0}, 'accuracy': 0.9665226781857451, 'macro avg': {'precision': 0.5023476707590235, 'recall': 0.5050218340611354, 'f1-score': 0.5020113917828815, 'support': 2778.0}, 'weighted avg': {'precision': 0.9787931655421918, 'recall': 0.9665226781857451, 'f1-score': 0.9725822737966658, 'support': 2778.0}}\n"
          ]
        }
      ]
    },
    {
      "cell_type": "code",
      "source": [
        "import joblib\n",
        "\n",
        "# Save models and pipeline\n",
        "joblib.dump(rf_pipeline, 'rf_regressor.pkl')\n",
        "joblib.dump(rf_clf_pipeline, 'rf_classifier.pkl')\n",
        "joblib.dump(preprocessor, 'preprocessor.pkl')\n"
      ],
      "metadata": {
        "id": "5A7luOpV-Gc7",
        "colab": {
          "base_uri": "https://localhost:8080/"
        },
        "outputId": "27359642-6c4b-414c-829d-467a6265daaa"
      },
      "execution_count": 13,
      "outputs": [
        {
          "output_type": "execute_result",
          "data": {
            "text/plain": [
              "['preprocessor.pkl']"
            ]
          },
          "metadata": {},
          "execution_count": 13
        }
      ]
    },
    {
      "cell_type": "code",
      "source": [
        "#downloading the files\n",
        "\n",
        "from google.colab import files\n",
        "files.download('rf_regressor.pkl')\n",
        "files.download('rf_classifier.pkl')\n",
        "files.download('preprocessor.pkl')"
      ],
      "metadata": {
        "colab": {
          "base_uri": "https://localhost:8080/",
          "height": 17
        },
        "id": "DcrPR0NuvTn8",
        "outputId": "8e0803d2-f340-42b8-a9c1-86e78e0eae53"
      },
      "execution_count": 14,
      "outputs": [
        {
          "output_type": "display_data",
          "data": {
            "text/plain": [
              "<IPython.core.display.Javascript object>"
            ],
            "application/javascript": [
              "\n",
              "    async function download(id, filename, size) {\n",
              "      if (!google.colab.kernel.accessAllowed) {\n",
              "        return;\n",
              "      }\n",
              "      const div = document.createElement('div');\n",
              "      const label = document.createElement('label');\n",
              "      label.textContent = `Downloading \"${filename}\": `;\n",
              "      div.appendChild(label);\n",
              "      const progress = document.createElement('progress');\n",
              "      progress.max = size;\n",
              "      div.appendChild(progress);\n",
              "      document.body.appendChild(div);\n",
              "\n",
              "      const buffers = [];\n",
              "      let downloaded = 0;\n",
              "\n",
              "      const channel = await google.colab.kernel.comms.open(id);\n",
              "      // Send a message to notify the kernel that we're ready.\n",
              "      channel.send({})\n",
              "\n",
              "      for await (const message of channel.messages) {\n",
              "        // Send a message to notify the kernel that we're ready.\n",
              "        channel.send({})\n",
              "        if (message.buffers) {\n",
              "          for (const buffer of message.buffers) {\n",
              "            buffers.push(buffer);\n",
              "            downloaded += buffer.byteLength;\n",
              "            progress.value = downloaded;\n",
              "          }\n",
              "        }\n",
              "      }\n",
              "      const blob = new Blob(buffers, {type: 'application/binary'});\n",
              "      const a = document.createElement('a');\n",
              "      a.href = window.URL.createObjectURL(blob);\n",
              "      a.download = filename;\n",
              "      div.appendChild(a);\n",
              "      a.click();\n",
              "      div.remove();\n",
              "    }\n",
              "  "
            ]
          },
          "metadata": {}
        },
        {
          "output_type": "display_data",
          "data": {
            "text/plain": [
              "<IPython.core.display.Javascript object>"
            ],
            "application/javascript": [
              "download(\"download_a311466c-851d-4147-8d80-81b81e7e1c1f\", \"rf_regressor.pkl\", 55428522)"
            ]
          },
          "metadata": {}
        },
        {
          "output_type": "display_data",
          "data": {
            "text/plain": [
              "<IPython.core.display.Javascript object>"
            ],
            "application/javascript": [
              "\n",
              "    async function download(id, filename, size) {\n",
              "      if (!google.colab.kernel.accessAllowed) {\n",
              "        return;\n",
              "      }\n",
              "      const div = document.createElement('div');\n",
              "      const label = document.createElement('label');\n",
              "      label.textContent = `Downloading \"${filename}\": `;\n",
              "      div.appendChild(label);\n",
              "      const progress = document.createElement('progress');\n",
              "      progress.max = size;\n",
              "      div.appendChild(progress);\n",
              "      document.body.appendChild(div);\n",
              "\n",
              "      const buffers = [];\n",
              "      let downloaded = 0;\n",
              "\n",
              "      const channel = await google.colab.kernel.comms.open(id);\n",
              "      // Send a message to notify the kernel that we're ready.\n",
              "      channel.send({})\n",
              "\n",
              "      for await (const message of channel.messages) {\n",
              "        // Send a message to notify the kernel that we're ready.\n",
              "        channel.send({})\n",
              "        if (message.buffers) {\n",
              "          for (const buffer of message.buffers) {\n",
              "            buffers.push(buffer);\n",
              "            downloaded += buffer.byteLength;\n",
              "            progress.value = downloaded;\n",
              "          }\n",
              "        }\n",
              "      }\n",
              "      const blob = new Blob(buffers, {type: 'application/binary'});\n",
              "      const a = document.createElement('a');\n",
              "      a.href = window.URL.createObjectURL(blob);\n",
              "      a.download = filename;\n",
              "      div.appendChild(a);\n",
              "      a.click();\n",
              "      div.remove();\n",
              "    }\n",
              "  "
            ]
          },
          "metadata": {}
        },
        {
          "output_type": "display_data",
          "data": {
            "text/plain": [
              "<IPython.core.display.Javascript object>"
            ],
            "application/javascript": [
              "download(\"download_98dbee3f-b0ef-4c02-9f7b-e7f1493647c6\", \"rf_classifier.pkl\", 5981106)"
            ]
          },
          "metadata": {}
        },
        {
          "output_type": "display_data",
          "data": {
            "text/plain": [
              "<IPython.core.display.Javascript object>"
            ],
            "application/javascript": [
              "\n",
              "    async function download(id, filename, size) {\n",
              "      if (!google.colab.kernel.accessAllowed) {\n",
              "        return;\n",
              "      }\n",
              "      const div = document.createElement('div');\n",
              "      const label = document.createElement('label');\n",
              "      label.textContent = `Downloading \"${filename}\": `;\n",
              "      div.appendChild(label);\n",
              "      const progress = document.createElement('progress');\n",
              "      progress.max = size;\n",
              "      div.appendChild(progress);\n",
              "      document.body.appendChild(div);\n",
              "\n",
              "      const buffers = [];\n",
              "      let downloaded = 0;\n",
              "\n",
              "      const channel = await google.colab.kernel.comms.open(id);\n",
              "      // Send a message to notify the kernel that we're ready.\n",
              "      channel.send({})\n",
              "\n",
              "      for await (const message of channel.messages) {\n",
              "        // Send a message to notify the kernel that we're ready.\n",
              "        channel.send({})\n",
              "        if (message.buffers) {\n",
              "          for (const buffer of message.buffers) {\n",
              "            buffers.push(buffer);\n",
              "            downloaded += buffer.byteLength;\n",
              "            progress.value = downloaded;\n",
              "          }\n",
              "        }\n",
              "      }\n",
              "      const blob = new Blob(buffers, {type: 'application/binary'});\n",
              "      const a = document.createElement('a');\n",
              "      a.href = window.URL.createObjectURL(blob);\n",
              "      a.download = filename;\n",
              "      div.appendChild(a);\n",
              "      a.click();\n",
              "      div.remove();\n",
              "    }\n",
              "  "
            ]
          },
          "metadata": {}
        },
        {
          "output_type": "display_data",
          "data": {
            "text/plain": [
              "<IPython.core.display.Javascript object>"
            ],
            "application/javascript": [
              "download(\"download_c47d20cd-ae66-4de6-a6fc-73262c5936b0\", \"preprocessor.pkl\", 5403)"
            ]
          },
          "metadata": {}
        }
      ]
    },
    {
      "cell_type": "code",
      "source": [],
      "metadata": {
        "id": "wpP6hFgmwJG1"
      },
      "execution_count": null,
      "outputs": []
    },
    {
      "cell_type": "code",
      "source": [
        "# ------------------ Feature Engineering ------------------\n",
        "\n",
        "# Add total rooms\n",
        "data['total_rooms'] = data['bedrooms'] + data['bathrooms'] + data['toilets']\n",
        "\n",
        "# Add room to parking ratio\n",
        "data['room_parking_ratio'] = data['total_rooms'] / (data['parking_space'] + 1)\n",
        "\n",
        "# Add binary flag for Abuja and Lagos\n",
        "data['is_abuja'] = (data['state'].str.lower() == 'abuja').astype(int)\n",
        "data['is_lagos'] = (data['state'].str.lower() == 'lagos').astype(int)\n",
        "\n",
        "# Add binary luxury feature (simplified logic for now)\n",
        "data['is_luxury'] = data['title'].str.contains('Detached|Terraced', case=False).astype(int)\n",
        "\n",
        "# Features and target variables\n",
        "X = data.drop(columns=['price', 'price Category'])\n",
        "y_reg = data['price']\n",
        "y_clf = data['price Category']\n",
        "\n",
        "# Split data\n",
        "X_reg_train, X_reg_test, y_reg_train, y_reg_test = train_test_split(X, y_reg, test_size=0.2, random_state=42)\n",
        "X_clf_train, X_clf_test, y_clf_train, y_clf_test = train_test_split(X, y_clf, test_size=0.2, random_state=42)\n",
        "\n",
        "# ------------------ Preprocessing ------------------\n",
        "\n",
        "numeric_features = ['bedrooms', 'bathrooms', 'toilets', 'parking_space', 'total_rooms', 'room_parking_ratio']\n",
        "categorical_features = ['title', 'town', 'state']\n",
        "binary_features = ['is_abuja', 'is_lagos', 'is_luxury']\n",
        "\n",
        "preprocessor = ColumnTransformer([\n",
        "    ('num', StandardScaler(), numeric_features),\n",
        "    ('cat', OneHotEncoder(handle_unknown='ignore'), categorical_features),\n",
        "    ('bin', 'passthrough', binary_features)\n",
        "])"
      ],
      "metadata": {
        "id": "5jU-XxSr5QjP"
      },
      "execution_count": null,
      "outputs": []
    },
    {
      "cell_type": "code",
      "source": [
        "# ------------------ Classification Models ------------------\n",
        "\n",
        "class_weights = compute_class_weight(class_weight='balanced', classes=np.unique(y_clf_train), y=y_clf_train)\n",
        "class_weight_dict = dict(zip(np.unique(y_clf_train), class_weights))\n",
        "\n",
        "log_clf_pipeline = Pipeline([\n",
        "    ('preprocessor', preprocessor),\n",
        "    ('classifier', LogisticRegression(max_iter=1000, class_weight=class_weight_dict))\n",
        "])\n",
        "\n",
        "rf_clf_pipeline = Pipeline([\n",
        "    ('preprocessor', preprocessor),\n",
        "    ('classifier', RandomForestClassifier(random_state=42, class_weight='balanced'))\n",
        "])\n",
        "\n",
        "# Hyperparameter tuning for logistic regression\n",
        "param_grid_logreg = {\n",
        "    'classifier__C': [0.01, 0.1, 1],\n",
        "    'classifier__solver': ['liblinear']\n",
        "}\n",
        "\n",
        "log_grid_search = GridSearchCV(log_clf_pipeline, param_grid_logreg, cv=5, scoring='f1_weighted')\n",
        "log_grid_search.fit(X_clf_train, y_clf_train)\n",
        "log_best_model = log_grid_search.best_estimator_\n",
        "\n",
        "# Hyperparameter tuning for random forest classifier\n",
        "param_grid_rf_clf = {\n",
        "    'classifier__n_estimators': [100, 200],\n",
        "    'classifier__max_depth': [10, None],\n",
        "    'classifier__min_samples_split': [2, 5]\n",
        "}\n",
        "\n",
        "rf_grid_search = GridSearchCV(rf_clf_pipeline, param_grid_rf_clf, cv=5, scoring='f1_weighted')\n",
        "rf_grid_search.fit(X_clf_train, y_clf_train)\n",
        "rf_best_model = rf_grid_search.best_estimator_"
      ],
      "metadata": {
        "id": "Ucmm_-6_t3fU"
      },
      "execution_count": null,
      "outputs": []
    },
    {
      "cell_type": "code",
      "source": [
        "# ------------------ Regression Models ------------------\n",
        "\n",
        "lin_reg_pipeline = Pipeline([\n",
        "    ('preprocessor', preprocessor),\n",
        "    ('regressor', LinearRegression())\n",
        "])\n",
        "\n",
        "rf_reg_pipeline = Pipeline([\n",
        "    ('preprocessor', preprocessor),\n",
        "    ('regressor', RandomForestRegressor(random_state=42))\n",
        "])\n",
        "\n",
        "lin_reg_pipeline.fit(X_reg_train, y_reg_train)\n",
        "rf_reg_pipeline.fit(X_reg_train, y_reg_train)\n",
        "\n",
        "# Predictions\n",
        "y_lin_pred = lin_reg_pipeline.predict(X_reg_test)\n",
        "y_rf_pred = rf_reg_pipeline.predict(X_reg_test)\n",
        "\n",
        "# Evaluation\n",
        "lin_mse = mean_squared_error(y_reg_test, y_lin_pred)\n",
        "lin_r2 = r2_score(y_reg_test, y_lin_pred)\n",
        "\n",
        "rf_mse = mean_squared_error(y_reg_test, y_rf_pred)\n",
        "rf_r2 = r2_score(y_reg_test, y_rf_pred)\n",
        "\n",
        "# Classification reports\n",
        "y_log_pred = log_best_model.predict(X_clf_test)\n",
        "y_rf_clf_pred = rf_best_model.predict(X_clf_test)\n",
        "\n",
        "log_report = classification_report(y_clf_test, y_log_pred, output_dict=True)\n",
        "rf_clf_report = classification_report(y_clf_test, y_rf_clf_pred, output_dict=True)\n",
        "\n",
        "(lin_mse, lin_r2, rf_mse, rf_r2, log_grid_search.best_params_, rf_grid_search.best_params_, log_report, rf_clf_report)"
      ],
      "metadata": {
        "id": "ywAlkiFtZS73",
        "colab": {
          "base_uri": "https://localhost:8080/"
        },
        "outputId": "5ed0123a-2523-4f44-823f-fdaf31d90db8"
      },
      "execution_count": null,
      "outputs": [
        {
          "output_type": "execute_result",
          "data": {
            "text/plain": [
              "(1.0419546746198868e+19,\n",
              " -0.11186341495839813,\n",
              " 2.3976233614685802e+20,\n",
              " -24.58489119921656,\n",
              " {'classifier__C': 1, 'classifier__solver': 'liblinear'},\n",
              " {'classifier__max_depth': None,\n",
              "  'classifier__min_samples_split': 2,\n",
              "  'classifier__n_estimators': 100},\n",
              " {'0': {'precision': 0.04207920792079208,\n",
              "   'recall': 0.5666666666666667,\n",
              "   'f1-score': 0.07834101382488479,\n",
              "   'support': 30.0},\n",
              "  '1': {'precision': 0.9945240101095199,\n",
              "   'recall': 0.8591703056768559,\n",
              "   'f1-score': 0.9219055056618508,\n",
              "   'support': 2748.0},\n",
              "  'accuracy': 0.8560115190784737,\n",
              "  'macro avg': {'precision': 0.518301609015156,\n",
              "   'recall': 0.7129184861717612,\n",
              "   'f1-score': 0.5001232597433678,\n",
              "   'support': 2778.0},\n",
              "  'weighted avg': {'precision': 0.984238429092363,\n",
              "   'recall': 0.8560115190784737,\n",
              "   'f1-score': 0.91279573793143,\n",
              "   'support': 2778.0}},\n",
              " {'0': {'precision': 0.016129032258064516,\n",
              "   'recall': 0.03333333333333333,\n",
              "   'f1-score': 0.021739130434782608,\n",
              "   'support': 30.0},\n",
              "  '1': {'precision': 0.9893225331369662,\n",
              "   'recall': 0.977802037845706,\n",
              "   'f1-score': 0.9835285505124451,\n",
              "   'support': 2748.0},\n",
              "  'accuracy': 0.9676025917926566,\n",
              "  'macro avg': {'precision': 0.5027257826975153,\n",
              "   'recall': 0.5055676855895197,\n",
              "   'f1-score': 0.5026338404736139,\n",
              "   'support': 2778.0},\n",
              "  'weighted avg': {'precision': 0.978812884099397,\n",
              "   'recall': 0.9676025917926566,\n",
              "   'f1-score': 0.9731420556951919,\n",
              "   'support': 2778.0}})"
            ]
          },
          "metadata": {},
          "execution_count": 8
        }
      ]
    },
    {
      "cell_type": "code",
      "source": [],
      "metadata": {
        "id": "GXJuStC4wprA"
      },
      "execution_count": null,
      "outputs": []
    }
  ]
}