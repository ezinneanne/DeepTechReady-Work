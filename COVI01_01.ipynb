{
  "nbformat": 4,
  "nbformat_minor": 0,
  "metadata": {
    "colab": {
      "provenance": [],
      "authorship_tag": "ABX9TyPTO2O61MylCUQYshKcAyHL",
      "include_colab_link": true
    },
    "kernelspec": {
      "name": "python3",
      "display_name": "Python 3"
    },
    "language_info": {
      "name": "python"
    }
  },
  "cells": [
    {
      "cell_type": "markdown",
      "metadata": {
        "id": "view-in-github",
        "colab_type": "text"
      },
      "source": [
        "<a href=\"https://colab.research.google.com/github/ezinneanne/DeepTechReady-Work/blob/new_branch/COVI01_01.ipynb\" target=\"_parent\"><img src=\"https://colab.research.google.com/assets/colab-badge.svg\" alt=\"Open In Colab\"/></a>"
      ]
    },
    {
      "cell_type": "code",
      "execution_count": 1,
      "metadata": {
        "id": "YMFxJ8GrjZu4"
      },
      "outputs": [],
      "source": [
        "# loading an image\n",
        "import cv2\n",
        "from google.colab.patches import cv_imshow"
      ]
    },
    {
      "cell_type": "code",
      "source": [
        "# load image\n",
        "img = cv2.imread(\"/content/dsn.png\")"
      ],
      "metadata": {
        "id": "TZLu-TNxkF1n"
      },
      "execution_count": null,
      "outputs": []
    },
    {
      "cell_type": "code",
      "source": [
        "# image dimension\n",
        "img.shape # (height, width, channel)"
      ],
      "metadata": {
        "id": "5WwXtBy8kj73"
      },
      "execution_count": null,
      "outputs": []
    },
    {
      "cell_type": "code",
      "source": [],
      "metadata": {
        "id": "Yp5AGQ6TkmiM"
      },
      "execution_count": null,
      "outputs": []
    }
  ]
}