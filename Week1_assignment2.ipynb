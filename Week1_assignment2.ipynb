{
  "nbformat": 4,
  "nbformat_minor": 0,
  "metadata": {
    "colab": {
      "provenance": [],
      "authorship_tag": "ABX9TyONOskZU07php+UCs09Jr2h",
      "include_colab_link": true
    },
    "kernelspec": {
      "name": "python3",
      "display_name": "Python 3"
    },
    "language_info": {
      "name": "python"
    }
  },
  "cells": [
    {
      "cell_type": "markdown",
      "metadata": {
        "id": "view-in-github",
        "colab_type": "text"
      },
      "source": [
        "<a href=\"https://colab.research.google.com/github/ezinneanne/DeepTechReady-Work/blob/new_branch/Week1_assignment2.ipynb\" target=\"_parent\"><img src=\"https://colab.research.google.com/assets/colab-badge.svg\" alt=\"Open In Colab\"/></a>"
      ]
    },
    {
      "cell_type": "markdown",
      "source": [
        "assignment 2\n",
        "\n",
        "I've prepared an assignment for you The data set for this assignment is a house pricing data set which is similar to this session demo data.\n",
        "\n",
        "The goal of this assignment is to build and compare two models on classification and regression.\n",
        "\n",
        "You are to choose a classification and regression model that we have explored during the demo and another classification and regression model not explored in our demo.\n",
        "\n",
        "An example for classification is using random forest classifier and an example of a regression model is support vector machine.\n",
        "\n",
        "Do not fret as you can find these models and more about their documentation on the Sci-learn  website.\n",
        "\n",
        "There are also relevant links that I've provided in the Jupiter notebook to see more of these models.\n",
        "Finally you are required to evaluate the models in each category to determine which performs best for predicting the house price and the house price category.\n",
        "\n",
        "Remember to upload your completed assignment to the learning portal.\n",
        "\n",
        "The full assignment details and the deliverables you are required to submit will also be made available on the learning portal.\n",
        "If you do encounter any challenges don't hesitate to reach out to a teaching assistant for supports You can also engage via Google Classroom for additional guidance and clarification."
      ],
      "metadata": {
        "id": "lgTzYfmDN3lt"
      }
    },
    {
      "cell_type": "code",
      "execution_count": null,
      "metadata": {
        "id": "c7TDs-L5NhcB"
      },
      "outputs": [],
      "source": []
    }
  ]
}