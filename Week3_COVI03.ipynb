{
  "nbformat": 4,
  "nbformat_minor": 0,
  "metadata": {
    "colab": {
      "provenance": [],
      "authorship_tag": "ABX9TyP4p3IRr/YVkHcrsxXDkpcJ",
      "include_colab_link": true
    },
    "kernelspec": {
      "name": "python3",
      "display_name": "Python 3"
    },
    "language_info": {
      "name": "python"
    }
  },
  "cells": [
    {
      "cell_type": "markdown",
      "metadata": {
        "id": "view-in-github",
        "colab_type": "text"
      },
      "source": [
        "<a href=\"https://colab.research.google.com/github/ezinneanne/DeepTechReady-Work/blob/new_branch/Week3_COVI03.ipynb\" target=\"_parent\"><img src=\"https://colab.research.google.com/assets/colab-badge.svg\" alt=\"Open In Colab\"/></a>"
      ]
    },
    {
      "cell_type": "code",
      "execution_count": 1,
      "metadata": {
        "id": "CD759_vVnUtd"
      },
      "outputs": [],
      "source": [
        "import torch"
      ]
    },
    {
      "cell_type": "code",
      "source": [
        "def customperm(a, b, c):\n",
        "\n",
        "    if c < b:\n",
        "        raise ValueError(\"c must be greater than or equal to b to get unique permutations.\")\n",
        "\n",
        "    # Create an empty tensor\n",
        "    result = torch.empty((a, b), dtype=torch.int64)\n",
        "\n",
        "    # Fill each row with a random permutation of numbers from 0 to c\n",
        "    for i in range(a):\n",
        "        result[i] = torch.randperm(c)[:b]  # Get b unique values from [0, c)\n",
        "\n",
        "    return result"
      ],
      "metadata": {
        "id": "0ZIh26XynweM"
      },
      "execution_count": 2,
      "outputs": []
    },
    {
      "cell_type": "code",
      "source": [
        "a, b, c = 3, 4, 20\n",
        "output_tensor = customperm(a, b, c)\n",
        "print(output_tensor)"
      ],
      "metadata": {
        "colab": {
          "base_uri": "https://localhost:8080/"
        },
        "id": "2YFoqekPoAiP",
        "outputId": "bc9ab086-6a6b-4590-ea84-c02977e63a62"
      },
      "execution_count": 3,
      "outputs": [
        {
          "output_type": "stream",
          "name": "stdout",
          "text": [
            "tensor([[ 0, 13, 17,  7],\n",
            "        [11, 15,  4, 17],\n",
            "        [15, 12, 14, 19]])\n"
          ]
        }
      ]
    }
  ]
}